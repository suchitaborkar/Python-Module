{
 "cells": [
  {
   "cell_type": "markdown",
   "id": "d6d062fb",
   "metadata": {},
   "source": [
    "## Arithematic Operators"
   ]
  },
  {
   "cell_type": "code",
   "execution_count": 49,
   "id": "727f3d89",
   "metadata": {},
   "outputs": [
    {
     "name": "stdout",
     "output_type": "stream",
     "text": [
      "(30+5j)\n"
     ]
    }
   ],
   "source": [
    "# Addition Operation\n",
    "val1=10+2j\n",
    "val2=20+3j\n",
    "\n",
    "result=val1+val2  # + Operator\n",
    "print(result)\n"
   ]
  },
  {
   "cell_type": "code",
   "execution_count": 31,
   "id": "bd6c27f8",
   "metadata": {},
   "outputs": [
    {
     "name": "stdout",
     "output_type": "stream",
     "text": [
      "Substraction: -15\n"
     ]
    }
   ],
   "source": [
    "# Substraction Operation\n",
    "a=20\n",
    "b=5\n",
    "\n",
    "result= b-a # ' - Operator'\n",
    "print(\"Substraction:\",result)"
   ]
  },
  {
   "cell_type": "code",
   "execution_count": 25,
   "id": "563d72ba",
   "metadata": {},
   "outputs": [
    {
     "name": "stdout",
     "output_type": "stream",
     "text": [
      "200\n"
     ]
    }
   ],
   "source": [
    "# Multiplication Operation\n",
    "a=10\n",
    "b=20\n",
    "\n",
    "mul_result=a*b  # * multiplcation\n",
    "print(mul_result)"
   ]
  },
  {
   "cell_type": "code",
   "execution_count": 33,
   "id": "4a6c232b",
   "metadata": {},
   "outputs": [
    {
     "name": "stdout",
     "output_type": "stream",
     "text": [
      "10.0\n"
     ]
    }
   ],
   "source": [
    "# Division Operation\n",
    "a=20\n",
    "b=2\n",
    "\n",
    "div_result=a/b  # '/' division operator gives result as quotient\n",
    "print(div_result)"
   ]
  },
  {
   "cell_type": "code",
   "execution_count": 34,
   "id": "dc0ec7aa",
   "metadata": {},
   "outputs": [
    {
     "name": "stdout",
     "output_type": "stream",
     "text": [
      "0\n"
     ]
    }
   ],
   "source": [
    "# Modulus Operator or Reminder Operation\n",
    "\n",
    "val1=20\n",
    "val2=2\n",
    "\n",
    "result=val1%val2  # '%' Modulus or reminder operator gives result reminder\n",
    "print(result)"
   ]
  },
  {
   "cell_type": "code",
   "execution_count": null,
   "id": "6a4ddbea",
   "metadata": {},
   "outputs": [],
   "source": [
    "# Exponential Operation  ( Power of)\n",
    "\n",
    "val1=20\n",
    "val2=10\n",
    "\n",
    "res_exponential=val1**val2  #'**' Exponential Operator\n",
    "\n",
    "print(res_exponential)"
   ]
  },
  {
   "cell_type": "code",
   "execution_count": null,
   "id": "3948106e",
   "metadata": {},
   "outputs": [],
   "source": [
    "# floor division Operation\n",
    "val1=10  # assinging at start\n",
    "val2=3\n",
    "\n",
    "result=val1//val2  #'//' floor operator\n",
    "print(result)\n"
   ]
  },
  {
   "cell_type": "code",
   "execution_count": 6,
   "id": "196fe855",
   "metadata": {},
   "outputs": [
    {
     "name": "stdout",
     "output_type": "stream",
     "text": [
      "Enter First Number:2\n",
      "Enter Second Number: 4\n",
      "<class 'int'>\n",
      "6\n"
     ]
    }
   ],
   "source": [
    "# input from user . input() is a function to take input from user at run time\n",
    "a=int(input(\"Enter First Number:\"))# type Caste or type conversion i,e convert str to int using int()\n",
    "\n",
    "b=int(input(\"Enter Second Number: \"))\n",
    "print(type(a))\n",
    "result=a+b\n",
    "print(result)\n",
    "\n",
    "\n",
    "\n",
    "\n"
   ]
  },
  {
   "cell_type": "code",
   "execution_count": 8,
   "id": "b6294254",
   "metadata": {},
   "outputs": [
    {
     "name": "stdout",
     "output_type": "stream",
     "text": [
      "Enter first float number:2.1\n",
      "Enter Second float number3.2\n",
      "5.300000000000001\n"
     ]
    }
   ],
   "source": [
    "a1=float(input(\"Enter first float number:\"))\n",
    "a2=float(input(\"Enter Second float number\"))\n",
    "result1=a1+a2\n",
    "print(result1)"
   ]
  },
  {
   "cell_type": "markdown",
   "id": "a532e538",
   "metadata": {},
   "source": [
    "## Comparison Operators"
   ]
  },
  {
   "cell_type": "code",
   "execution_count": 13,
   "id": "6d6088dd",
   "metadata": {},
   "outputs": [
    {
     "name": "stdout",
     "output_type": "stream",
     "text": [
      "False\n"
     ]
    }
   ],
   "source": [
    "# '==' Equal to Operator\n",
    "a=10\n",
    "b=20\n",
    "print(a==b)"
   ]
  },
  {
   "cell_type": "code",
   "execution_count": 14,
   "id": "b66bf1f7",
   "metadata": {},
   "outputs": [
    {
     "name": "stdout",
     "output_type": "stream",
     "text": [
      "True\n"
     ]
    }
   ],
   "source": [
    "a=10\n",
    "b=10\n",
    "print(a==b)"
   ]
  },
  {
   "cell_type": "code",
   "execution_count": 15,
   "id": "d97dc665",
   "metadata": {},
   "outputs": [
    {
     "name": "stdout",
     "output_type": "stream",
     "text": [
      "False\n"
     ]
    }
   ],
   "source": [
    "# != not equal to operator\n",
    "a=10\n",
    "b=10\n",
    "print(a!=b)"
   ]
  },
  {
   "cell_type": "code",
   "execution_count": 16,
   "id": "73a1b894",
   "metadata": {},
   "outputs": [
    {
     "name": "stdout",
     "output_type": "stream",
     "text": [
      "True\n"
     ]
    }
   ],
   "source": [
    "#<= operator <: less > :greater\n",
    "a=10\n",
    "b=20\n",
    "print(a<=b)"
   ]
  },
  {
   "cell_type": "code",
   "execution_count": 17,
   "id": "83b6734e",
   "metadata": {},
   "outputs": [
    {
     "name": "stdout",
     "output_type": "stream",
     "text": [
      "False\n"
     ]
    }
   ],
   "source": [
    "#>= operator\n",
    "a=10\n",
    "b=20\n",
    "print(a>=b)"
   ]
  },
  {
   "cell_type": "markdown",
   "id": "b732ef05",
   "metadata": {},
   "source": [
    "## logical Operators"
   ]
  },
  {
   "cell_type": "code",
   "execution_count": 25,
   "id": "7e3034fc",
   "metadata": {},
   "outputs": [
    {
     "name": "stdout",
     "output_type": "stream",
     "text": [
      "False\n"
     ]
    }
   ],
   "source": [
    "# and operator:  if both are true then true otherwise false\n",
    "a=True\n",
    "b=False\n",
    "print(a and b)"
   ]
  },
  {
   "cell_type": "code",
   "execution_count": null,
   "id": "79291697",
   "metadata": {},
   "outputs": [],
   "source": []
  },
  {
   "cell_type": "code",
   "execution_count": 26,
   "id": "68197b7d",
   "metadata": {},
   "outputs": [
    {
     "name": "stdout",
     "output_type": "stream",
     "text": [
      "True\n"
     ]
    }
   ],
   "source": [
    "a=10\n",
    "b=20\n",
    "print(a<b and a!=b)"
   ]
  },
  {
   "cell_type": "code",
   "execution_count": 27,
   "id": "149f9774",
   "metadata": {},
   "outputs": [
    {
     "name": "stdout",
     "output_type": "stream",
     "text": [
      "False\n"
     ]
    }
   ],
   "source": [
    "a=10\n",
    "b=20\n",
    "print(a<b and a==b)"
   ]
  },
  {
   "cell_type": "code",
   "execution_count": 28,
   "id": "863e8dec",
   "metadata": {},
   "outputs": [
    {
     "name": "stdout",
     "output_type": "stream",
     "text": [
      "True\n"
     ]
    }
   ],
   "source": [
    "# or operator: if both values are false then false otherwise \n",
    "#any other value true\n",
    "a=True\n",
    "b=False\n",
    "print(a or b)"
   ]
  },
  {
   "cell_type": "code",
   "execution_count": 29,
   "id": "5c616e02",
   "metadata": {},
   "outputs": [
    {
     "name": "stdout",
     "output_type": "stream",
     "text": [
      "False\n"
     ]
    }
   ],
   "source": [
    "a=False\n",
    "b=False\n",
    "print(a or b)"
   ]
  },
  {
   "cell_type": "code",
   "execution_count": 30,
   "id": "9dae65ce",
   "metadata": {},
   "outputs": [
    {
     "name": "stdout",
     "output_type": "stream",
     "text": [
      "False\n"
     ]
    }
   ],
   "source": [
    "a=10\n",
    "b=20\n",
    "print(a>b or a==b)"
   ]
  },
  {
   "cell_type": "code",
   "execution_count": 31,
   "id": "86b128fa",
   "metadata": {},
   "outputs": [
    {
     "name": "stdout",
     "output_type": "stream",
     "text": [
      "False\n"
     ]
    }
   ],
   "source": [
    "a=True\n",
    "print(not a)\n"
   ]
  },
  {
   "cell_type": "markdown",
   "id": "744d227e",
   "metadata": {},
   "source": [
    "##    Membership Operator"
   ]
  },
  {
   "cell_type": "code",
   "execution_count": 32,
   "id": "d8a64311",
   "metadata": {},
   "outputs": [
    {
     "data": {
      "text/plain": [
       "True"
      ]
     },
     "execution_count": 32,
     "metadata": {},
     "output_type": "execute_result"
    }
   ],
   "source": [
    "str1=\"Suchita\"\n",
    "str2=\"ita\"\n",
    "str2 in str1"
   ]
  },
  {
   "cell_type": "code",
   "execution_count": 33,
   "id": "623bdd31",
   "metadata": {},
   "outputs": [
    {
     "data": {
      "text/plain": [
       "False"
      ]
     },
     "execution_count": 33,
     "metadata": {},
     "output_type": "execute_result"
    }
   ],
   "source": [
    "str1=\"Suchita\"\n",
    "str2=\"Python\"\n",
    "str2 in str1"
   ]
  },
  {
   "cell_type": "code",
   "execution_count": 14,
   "id": "71d4b161",
   "metadata": {},
   "outputs": [
    {
     "data": {
      "text/plain": [
       "True"
      ]
     },
     "execution_count": 14,
     "metadata": {},
     "output_type": "execute_result"
    }
   ],
   "source": [
    "num1={5,4,3,2,1}   # member should be single value which you try fing in either tuple,list or set\n",
    "num2= 2   # single value\n",
    "num2 in num1"
   ]
  },
  {
   "cell_type": "code",
   "execution_count": null,
   "id": "1e75f143",
   "metadata": {},
   "outputs": [],
   "source": []
  }
 ],
 "metadata": {
  "kernelspec": {
   "display_name": "Python 3 (ipykernel)",
   "language": "python",
   "name": "python3"
  },
  "language_info": {
   "codemirror_mode": {
    "name": "ipython",
    "version": 3
   },
   "file_extension": ".py",
   "mimetype": "text/x-python",
   "name": "python",
   "nbconvert_exporter": "python",
   "pygments_lexer": "ipython3",
   "version": "3.9.12"
  }
 },
 "nbformat": 4,
 "nbformat_minor": 5
}
