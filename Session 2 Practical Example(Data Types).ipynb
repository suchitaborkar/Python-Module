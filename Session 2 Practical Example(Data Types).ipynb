{
 "cells": [
  {
   "cell_type": "markdown",
   "id": "01f4021a",
   "metadata": {},
   "source": [
    "# Session 2 Pratical Example(Data Type)"
   ]
  },
  {
   "cell_type": "code",
   "execution_count": 2,
   "id": "a0402042",
   "metadata": {},
   "outputs": [
    {
     "name": "stdout",
     "output_type": "stream",
     "text": [
      "Hello all candidates\n",
      "20.9\n"
     ]
    }
   ],
   "source": [
    "# Print Statement \n",
    "print(\"Hello all candidates\")\n",
    "print(10+10.9)\n"
   ]
  },
  {
   "cell_type": "code",
   "execution_count": 6,
   "id": "fe58dfe9",
   "metadata": {},
   "outputs": [
    {
     "name": "stdout",
     "output_type": "stream",
     "text": [
      "<class 'str'>\n",
      "m1+m2+m3\n",
      "1020300\n"
     ]
    }
   ],
   "source": [
    "m1=\"10\"  # Marks of subjects\n",
    "m2=\"20\"\n",
    "m3=\"300\"\n",
    "print(type(m3))\n",
    "print(\"m1+m2+m3\")\n",
    "print(m1+m2+m3)\n"
   ]
  },
  {
   "cell_type": "code",
   "execution_count": 4,
   "id": "e0f1577f",
   "metadata": {},
   "outputs": [],
   "source": [
    "#  In above program since m1,m2,m3 assigns then uber in string format\n",
    "# It will act as string not number datatype"
   ]
  },
  {
   "cell_type": "code",
   "execution_count": 5,
   "id": "0728e73f",
   "metadata": {},
   "outputs": [
    {
     "name": "stdout",
     "output_type": "stream",
     "text": [
      "<class 'int'>\n",
      "600\n"
     ]
    }
   ],
   "source": [
    "m1=100\n",
    "m2=200\n",
    "m3=300\n",
    "print(type(m3))\n",
    "print(m1+m2+m3)"
   ]
  },
  {
   "cell_type": "code",
   "execution_count": 1,
   "id": "36f53e4e",
   "metadata": {},
   "outputs": [
    {
     "name": "stdout",
     "output_type": "stream",
     "text": [
      "<class 'float'>\n",
      "4.2\n"
     ]
    }
   ],
   "source": [
    "Height_A=4.2\n",
    "Height_B=5.1\n",
    "print(type(Height_A))\n",
    "print(Height_A)"
   ]
  },
  {
   "cell_type": "code",
   "execution_count": 10,
   "id": "98b7d193",
   "metadata": {},
   "outputs": [
    {
     "name": "stdout",
     "output_type": "stream",
     "text": [
      "Suchita 30 31,USA,XYZ\n"
     ]
    }
   ],
   "source": [
    "name=\"Suchita\"\n",
    "age=30\n",
    "address=\"31,USA,XYZ\"\n",
    "print(name,age,address)"
   ]
  },
  {
   "cell_type": "code",
   "execution_count": 11,
   "id": "070b148c",
   "metadata": {},
   "outputs": [
    {
     "name": "stdout",
     "output_type": "stream",
     "text": [
      "The value of a is  9\n"
     ]
    }
   ],
   "source": [
    "a=9\n",
    "print(\"The value of a is \",a) "
   ]
  },
  {
   "cell_type": "markdown",
   "id": "05931149",
   "metadata": {},
   "source": [
    "## Variable"
   ]
  },
  {
   "cell_type": "code",
   "execution_count": 13,
   "id": "b970e30c",
   "metadata": {},
   "outputs": [
    {
     "name": "stdout",
     "output_type": "stream",
     "text": [
      "Total Bill is :  300\n"
     ]
    }
   ],
   "source": [
    "a_price =100\n",
    "b_price = 200\n",
    "c_bill=a_price + b_price           # Addition of two variables\n",
    "print(\"Total Bill is : \",c_bill)"
   ]
  },
  {
   "cell_type": "code",
   "execution_count": 14,
   "id": "70ff275c",
   "metadata": {},
   "outputs": [
    {
     "name": "stdout",
     "output_type": "stream",
     "text": [
      "Difference in Bill  100\n"
     ]
    }
   ],
   "source": [
    "c_bill=b_price - a_price\n",
    "print(\"Difference in Bill \",c_bill)   # Difference in two variables"
   ]
  },
  {
   "cell_type": "code",
   "execution_count": 15,
   "id": "e8f430fe",
   "metadata": {},
   "outputs": [
    {
     "name": "stdout",
     "output_type": "stream",
     "text": [
      "google.com\n"
     ]
    }
   ],
   "source": [
    "website=\"google.com\"   # String definition\n",
    "print(website)"
   ]
  },
  {
   "cell_type": "code",
   "execution_count": 16,
   "id": "f9d1bf94",
   "metadata": {},
   "outputs": [
    {
     "name": "stdout",
     "output_type": "stream",
     "text": [
      "5\n",
      "3.2\n",
      "Hello\n"
     ]
    }
   ],
   "source": [
    "# Assigning Multiple values to multiple variable\n",
    "a,b,c=5,3.2,\"Hello\"\n",
    "\n",
    "print(a)\n",
    "print(b)\n",
    "print(c)"
   ]
  },
  {
   "cell_type": "code",
   "execution_count": 17,
   "id": "f02b0927",
   "metadata": {},
   "outputs": [
    {
     "name": "stdout",
     "output_type": "stream",
     "text": [
      "Same\n",
      "Same\n",
      "Same\n"
     ]
    }
   ],
   "source": [
    "# Assigning same values to multiple variables\n",
    "x=y=z=\"Same\"\n",
    "\n",
    "print(x)\n",
    "print(y)\n",
    "print(z)"
   ]
  },
  {
   "cell_type": "markdown",
   "id": "fc73d568",
   "metadata": {},
   "source": [
    "## Number Data type"
   ]
  },
  {
   "cell_type": "code",
   "execution_count": 18,
   "id": "4b3b3aa1",
   "metadata": {},
   "outputs": [
    {
     "name": "stdout",
     "output_type": "stream",
     "text": [
      "<class 'int'>\n",
      "<class 'float'>\n",
      "<class 'complex'>\n"
     ]
    }
   ],
   "source": [
    "# Python Program to demonstrate Number value\n",
    "a=10\n",
    "print(type(a))      # interger Type\n",
    "\n",
    "b=5.0\n",
    "print(type(b))     # float type\n",
    "\n",
    "c=2+5j\n",
    "print(type(c))    # complex type"
   ]
  },
  {
   "cell_type": "markdown",
   "id": "0f76a028",
   "metadata": {},
   "source": [
    "## List Datatype"
   ]
  },
  {
   "cell_type": "code",
   "execution_count": 19,
   "id": "13201e88",
   "metadata": {},
   "outputs": [
    {
     "name": "stdout",
     "output_type": "stream",
     "text": [
      "<class 'list'>\n"
     ]
    }
   ],
   "source": [
    "# List Ordered sequence of elements. Elements could be of different types. \n",
    "#List is mutable i,e we can modify elements of list.It use []\n",
    "\n",
    "a=[5,10,15,\"Regenesys\",30.7,40.2,10,15,5]\n",
    "print(type(a))"
   ]
  },
  {
   "cell_type": "code",
   "execution_count": 20,
   "id": "48e92643",
   "metadata": {},
   "outputs": [
    {
     "name": "stdout",
     "output_type": "stream",
     "text": [
      "Regenesys\n",
      "15\n",
      "5\n",
      "15\n",
      "['Regenesys', 30.7, 40.2]\n",
      "15 40.2 15\n"
     ]
    }
   ],
   "source": [
    "# to fetch specific element from list ,use index\n",
    "\n",
    "print(a[3])        # for positive index value, it will fetch from left to right starting from 0\n",
    "print(a[7])\n",
    "\n",
    "print(a[-1])      # for negative index value , it will fetch from right to left starting from -1\n",
    "print(a[-2])\n",
    "\n",
    "print(a[3:6])    # It will fetch element from index value 3 to index value 5\n",
    "print(a[2],a[5],a[7])"
   ]
  },
  {
   "cell_type": "code",
   "execution_count": 22,
   "id": "a4cf1097",
   "metadata": {},
   "outputs": [
    {
     "name": "stdout",
     "output_type": "stream",
     "text": [
      "5\n",
      "40\n",
      "20\n"
     ]
    }
   ],
   "source": [
    "# Function/ Methods() in List\n",
    "\n",
    "Grade=[\"A\",\"B\",\"C\",\"D\",\"E\"]\n",
    "Marks=[20,30,40,33,29.87]\n",
    "\n",
    "print(len(Grade))   # It will print length of the list\n",
    "print(max(Marks))   # It will print Maximum value from list\n",
    "print(min(Marks))   # It will print Minimum Value from List"
   ]
  },
  {
   "cell_type": "code",
   "execution_count": 26,
   "id": "4de3ac2e",
   "metadata": {},
   "outputs": [
    {
     "name": "stdout",
     "output_type": "stream",
     "text": [
      "\n",
      "Multi-Dimensional List\n",
      "[['Lets go', 'for'], ['study']]\n",
      "['study']\n"
     ]
    }
   ],
   "source": [
    "# Creating a MultiDimesional List\n",
    "# By Nesting a list inside a list\n",
    "List=[['Lets go','for'],['study']]\n",
    "print(\"\\nMulti-Dimensional List\")\n",
    "print(List)\n",
    "print(List[1])"
   ]
  },
  {
   "cell_type": "code",
   "execution_count": 28,
   "id": "64b21998",
   "metadata": {},
   "outputs": [
    {
     "name": "stdout",
     "output_type": "stream",
     "text": [
      "4\n"
     ]
    }
   ],
   "source": [
    "# Count Function in List\n",
    "\n",
    "points=[1,1,1,1,2,2,2,3,3,4,5,6,6]\n",
    "\n",
    "count_points=points.count(1)  # It will print count of number 1 in List\n",
    "print(count_points)"
   ]
  },
  {
   "cell_type": "code",
   "execution_count": 29,
   "id": "e1591aad",
   "metadata": {},
   "outputs": [
    {
     "name": "stdout",
     "output_type": "stream",
     "text": [
      "Index of Cherry is  2\n"
     ]
    }
   ],
   "source": [
    "# Index() in list\n",
    "fruits=[\"apple\",\"banana\",\"cherry\"]\n",
    "x=fruits.index(\"cherry\")     # It will give index value \n",
    "print(\"Index of Cherry is \",x)"
   ]
  },
  {
   "cell_type": "code",
   "execution_count": 30,
   "id": "7e2a5390",
   "metadata": {},
   "outputs": [
    {
     "name": "stdout",
     "output_type": "stream",
     "text": [
      "['apple', 'banana', 'cherry']\n",
      "new list is  ['apple', 'banana', 'cherry', 'orange']\n"
     ]
    }
   ],
   "source": [
    "# append() in list\n",
    "fruits=[\"apple\",\"banana\",\"cherry\"]\n",
    "print(fruits)\n",
    "fruits.append(\"orange\")     # append new value in list\n",
    "print(\"New list is \",fruits)"
   ]
  },
  {
   "cell_type": "code",
   "execution_count": 31,
   "id": "64092209",
   "metadata": {},
   "outputs": [
    {
     "name": "stdout",
     "output_type": "stream",
     "text": [
      "Reverse List is ['cherry', 'banana', 'apple']\n"
     ]
    }
   ],
   "source": [
    "# reverse() in list\n",
    "fruits=[\"apple\",\"banana\",\"cherry\"]\n",
    "fruits.reverse()\n",
    "print(\"Reverse List is\",fruits)"
   ]
  },
  {
   "cell_type": "code",
   "execution_count": 32,
   "id": "47a99d4b",
   "metadata": {},
   "outputs": [
    {
     "name": "stdout",
     "output_type": "stream",
     "text": [
      "Cars in sorted order [1, 3, 5]\n"
     ]
    }
   ],
   "source": [
    "#sort() in list\n",
    "cars=[3,5,1]\n",
    "cars.sort()\n",
    "print(\"Cars in sorted order\",cars)"
   ]
  },
  {
   "cell_type": "code",
   "execution_count": 33,
   "id": "148253a0",
   "metadata": {},
   "outputs": [
    {
     "name": "stdout",
     "output_type": "stream",
     "text": [
      "Elements of list []\n"
     ]
    }
   ],
   "source": [
    "#clear() in list\n",
    "cars=[3,5,1]\n",
    "cars.clear()   # it will remove all elements in list\n",
    "print(\"Elements of list\",cars)"
   ]
  },
  {
   "cell_type": "code",
   "execution_count": 34,
   "id": "e293ebe5",
   "metadata": {},
   "outputs": [
    {
     "name": "stdout",
     "output_type": "stream",
     "text": [
      "Elements of number list are [2, 3, 5, 7]\n"
     ]
    }
   ],
   "source": [
    "#copy() in list\n",
    "prime_number=[2,3,5,7]\n",
    "number=prime_number.copy()  #it will copy all elements of prime_number list into number list\n",
    "print(\"Elements of number list are\",number)"
   ]
  },
  {
   "cell_type": "code",
   "execution_count": 35,
   "id": "0b13d808",
   "metadata": {},
   "outputs": [
    {
     "name": "stdout",
     "output_type": "stream",
     "text": [
      "Removed element is 7\n"
     ]
    }
   ],
   "source": [
    "#pop() in list\n",
    "# remove element at given index and returns removed item\n",
    "prime_number=[2,3,5,7]\n",
    "removed_element=prime_number.pop(3)  # it will remove elements at index 3\n",
    "print(\"Removed element is\",removed_element)\n"
   ]
  },
  {
   "cell_type": "markdown",
   "id": "8ab406f1",
   "metadata": {},
   "source": [
    "# # Tuple"
   ]
  },
  {
   "cell_type": "code",
   "execution_count": 38,
   "id": "f4a59c79",
   "metadata": {},
   "outputs": [
    {
     "name": "stdout",
     "output_type": "stream",
     "text": [
      "<class 'tuple'>\n",
      "element at index value 2 is 40\n"
     ]
    }
   ],
   "source": [
    "# tuple datatype is ordered sequence of elements.Elements could be of different types. \n",
    "#tuple is immutable i,e we cannot modify elements of tuple. It use ()\n",
    "\n",
    "fpage1=(30,45,40,50,6)\n",
    "print(type(fpage1))\n",
    "\n",
    "print(\"element at index value 2 is\",fpage1[2])   # it will print element at index value 2\n"
   ]
  },
  {
   "cell_type": "code",
   "execution_count": 39,
   "id": "16643932",
   "metadata": {},
   "outputs": [
    {
     "name": "stdout",
     "output_type": "stream",
     "text": [
      "Length of tuple is 5\n",
      "Maximum element of tuple is 50\n",
      "Minimum element of tuple is 6\n"
     ]
    }
   ],
   "source": [
    "# function of Tuple\n",
    "\n",
    "print(\"Length of tuple is\",len(fpage1))   # give length of tuple\n",
    "print(\"Maximum element of tuple is\",max(fpage1))\n",
    "print(\"Minimum element of tuple is\",min(fpage1))"
   ]
  },
  {
   "cell_type": "code",
   "execution_count": 8,
   "id": "030f27cd",
   "metadata": {},
   "outputs": [
    {
     "name": "stdout",
     "output_type": "stream",
     "text": [
      "Merged tuple is: (4, 5, 6, 7, 2, 10, 20, 30, 9)\n"
     ]
    }
   ],
   "source": [
    "#tuples are immutable,so you cannot add new elements\n",
    "#using merge of tuple with '+' operator you can add an elements and it will create a new tuple\n",
    "tuple1=(4,5,6,7,2)\n",
    "tuple2=(10,20,30)\n",
    "tuple1=tuple1+tuple2\n",
    "tuple1=tuple1+(9,)\n",
    "print(\"Merged tuple is:\",tuple1)"
   ]
  },
  {
   "cell_type": "code",
   "execution_count": 43,
   "id": "cfc9babb",
   "metadata": {},
   "outputs": [
    {
     "name": "stdout",
     "output_type": "stream",
     "text": [
      "(4, 5, 6, 7, 2, 15, 16, 17, 4, 5, 6, 7, 2)\n"
     ]
    }
   ],
   "source": [
    "# adding item to specific index\n",
    "tuple1=tuple1[:5]+(15,16,17)+tuple1[:5]\n",
    "print(tuple1)"
   ]
  },
  {
   "cell_type": "code",
   "execution_count": 44,
   "id": "84814b18",
   "metadata": {},
   "outputs": [
    {
     "name": "stdout",
     "output_type": "stream",
     "text": [
      "[4, 5, 6, 7, 2, 15, 16, 17, 4, 5, 6, 7, 2]\n"
     ]
    }
   ],
   "source": [
    "# Coverting tuple to list\n",
    "list1=list(tuple1)     # this covert tuple into list\n",
    "print(list1)   "
   ]
  },
  {
   "cell_type": "code",
   "execution_count": 45,
   "id": "90c0bf9a",
   "metadata": {},
   "outputs": [
    {
     "name": "stdout",
     "output_type": "stream",
     "text": [
      "(4, 5, 6, 7, 2, 15, 16, 17, 4, 5, 6, 7, 2, 99)\n"
     ]
    }
   ],
   "source": [
    "list1.append(99)\n",
    "tuplex=tuple(list1)     # this will covert list into tuple\n",
    "print(tuplex)"
   ]
  },
  {
   "cell_type": "markdown",
   "id": "174ab9c6",
   "metadata": {},
   "source": [
    "## String Datatype"
   ]
  },
  {
   "cell_type": "code",
   "execution_count": 10,
   "id": "48ab86bc",
   "metadata": {},
   "outputs": [
    {
     "name": "stdout",
     "output_type": "stream",
     "text": [
      "<class 'str'>\n",
      "Python Programming\n"
     ]
    }
   ],
   "source": [
    "a=\"Python\"\n",
    "b=\"Programming\"\n",
    "print(type(a))\n",
    "print(a+\" \"+b)      # + operator is used as concatenation in string type data"
   ]
  },
  {
   "cell_type": "code",
   "execution_count": 49,
   "id": "c3055195",
   "metadata": {},
   "outputs": [
    {
     "name": "stdout",
     "output_type": "stream",
     "text": [
      "python programming\n"
     ]
    }
   ],
   "source": [
    "# creating string with single quote\n",
    "str='python programming'\n",
    "print(str)"
   ]
  },
  {
   "cell_type": "code",
   "execution_count": 51,
   "id": "794b8ae0",
   "metadata": {},
   "outputs": [
    {
     "name": "stdout",
     "output_type": "stream",
     "text": [
      "Python Programming\n"
     ]
    }
   ],
   "source": [
    "# creating string with double quote\n",
    "str=\"Python Programming\"\n",
    "print(str)"
   ]
  },
  {
   "cell_type": "code",
   "execution_count": 52,
   "id": "70e2a8c9",
   "metadata": {},
   "outputs": [
    {
     "name": "stdout",
     "output_type": "stream",
     "text": [
      "Python\n",
      "  Programming\n"
     ]
    }
   ],
   "source": [
    "#creating string with triple quotes which allows multiple lines\n",
    "str=\"\"\"Python\n",
    "  Programming\"\"\"\n",
    "print(str)"
   ]
  },
  {
   "cell_type": "code",
   "execution_count": 15,
   "id": "b2b970b3",
   "metadata": {},
   "outputs": [
    {
     "name": "stdout",
     "output_type": "stream",
     "text": [
      "Python prgramming session\n"
     ]
    }
   ],
   "source": [
    "# concatenate two string using + operator\n",
    "str=\"Python programming\"\n",
    "str1=\"session\"\n",
    "print(str+\" \" +str1)"
   ]
  },
  {
   "cell_type": "code",
   "execution_count": 16,
   "id": "b5451d08",
   "metadata": {},
   "outputs": [
    {
     "name": "stdout",
     "output_type": "stream",
     "text": [
      "Character at index 2 is t\n"
     ]
    }
   ],
   "source": [
    "print(\"Character at index 2 is\",str[2]) # it will print character at specific index"
   ]
  },
  {
   "cell_type": "code",
   "execution_count": 20,
   "id": "33e76e85",
   "metadata": {},
   "outputs": [
    {
     "name": "stdout",
     "output_type": "stream",
     "text": [
      "thon p\n"
     ]
    }
   ],
   "source": [
    "print(str[2:8])"
   ]
  },
  {
   "cell_type": "code",
   "execution_count": 21,
   "id": "82ead59c",
   "metadata": {},
   "outputs": [],
   "source": [
    "# Example for practice\n",
    "\n",
    "#Program to enter complete details of an organization \n",
    "#prepare a list employee details as name ,age,country\n",
    "#Print department details as department name,code\n",
    "#print head of department as name of head,code\n",
    "#prepare three list and display details\n",
    "\n"
   ]
  },
  {
   "cell_type": "code",
   "execution_count": 29,
   "id": "d82e1fa6-abe2-4906-938a-fe032b78ee4b",
   "metadata": {},
   "outputs": [
    {
     "name": "stdout",
     "output_type": "stream",
     "text": [
      "Printing Employee Details:\n",
      "Name,Age,Country John 30 India\n",
      "\n",
      "Name:John,Age:30,Country:India\n"
     ]
    }
   ],
   "source": [
    "emp=[\"John\",30,\"India\"]\n",
    "dept1=[\"CS\",101]\n",
    "dept2=[\"IT\",102]\n",
    "HOD_CS=[10,\"Mr.Holdin\"]\n",
    "HOD_IT=[20,\"Mr Brown\"]\n",
    "print(\"Printing Employee Details:\")\n",
    "print(\"Name,Age,Country\",emp[0],emp[1],emp[2])  # Name:John Age:30  Country:India\n",
    "print(\"\\nName:%s,Age:%d,Country:%s\"%(emp[0],emp[1],emp[2]))\n",
    "\n"
   ]
  },
  {
   "cell_type": "markdown",
   "id": "ce630ac4",
   "metadata": {},
   "source": [
    "## Set Datatype"
   ]
  },
  {
   "cell_type": "code",
   "execution_count": 31,
   "id": "bab5d51d",
   "metadata": {},
   "outputs": [
    {
     "name": "stdout",
     "output_type": "stream",
     "text": [
      "Initial blank set\n",
      "<class 'set'>\n"
     ]
    }
   ],
   "source": [
    "# Set is an unordered collection of unique items. \n",
    "#Set is defined by values separated by comma inside braces { }. Items in a set are not ordered. \n",
    "\n",
    "#creating set\n",
    "set1=set()\n",
    "print(\"Initial blank set\")\n",
    "print(type(set1))"
   ]
  },
  {
   "cell_type": "code",
   "execution_count": 34,
   "id": "ba5071df",
   "metadata": {},
   "outputs": [
    {
     "name": "stdout",
     "output_type": "stream",
     "text": [
      "\n",
      " Set with use of String:\n",
      "{'i', 'y', 'P', 'o', 'S', 'n', ' ', 'h', 's', 'e', 't'}\n"
     ]
    }
   ],
   "source": [
    "#creating set with use of string\n",
    "set1=set(\"Python Session\")  # pass string type data as parameter\n",
    "print(\"\\n Set with use of String:\")\n",
    "print(set1)  # unique elements /character of the string"
   ]
  },
  {
   "cell_type": "code",
   "execution_count": 36,
   "id": "d5bee94d",
   "metadata": {},
   "outputs": [
    {
     "name": "stdout",
     "output_type": "stream",
     "text": [
      "\n",
      "Set with use of list\n",
      "{'Session', 'Programming', 'Python', 'Language'}\n"
     ]
    }
   ],
   "source": [
    "# creating set with use of list\n",
    "set1=set([\"Python\",\"Programming\",\"Language\",\"Session\"])\n",
    "print(\"\\nSet with use of list\")\n",
    "print(set1)"
   ]
  },
  {
   "cell_type": "code",
   "execution_count": 42,
   "id": "a67b5956",
   "metadata": {},
   "outputs": [
    {
     "name": "stdout",
     "output_type": "stream",
     "text": [
      "{1, 2, 'Programming', 4, 6, 'Language', 'Python'}\n",
      "<class 'set'>\n"
     ]
    }
   ],
   "source": [
    "#creating set with mixed values having numbers and strings\n",
    "set1={1,2,'Python',4,'Programming',6,'Language'}\n",
    "print(set1)\n",
    "print(type(set1))"
   ]
  },
  {
   "cell_type": "code",
   "execution_count": 43,
   "id": "ed98ecae",
   "metadata": {},
   "outputs": [
    {
     "name": "stdout",
     "output_type": "stream",
     "text": [
      "Original Set {1, 2, 3, 4, 6}\n",
      "\n",
      " After Removing first elements from given set\n",
      "{2, 3, 4, 6}\n"
     ]
    }
   ],
   "source": [
    "#write a program to remove elements from given set, we use pop()\n",
    "\n",
    "num_set=set([2,4,3,6,1])\n",
    "print(\"Original Set\",num_set)\n",
    "num_set.pop()   # pop() will remove first element of set\n",
    "print(\"\\n After Removing first elements from given set\")\n",
    "print(num_set)"
   ]
  },
  {
   "cell_type": "code",
   "execution_count": 3,
   "id": "1ccbf2fb",
   "metadata": {},
   "outputs": [
    {
     "name": "stdout",
     "output_type": "stream",
     "text": [
      "original set\n",
      "{'blue', 'green'}\n",
      "{'blue', 'yellow'}\n",
      "\n",
      " Intersection of two set\n",
      "{'blue'}\n"
     ]
    }
   ],
   "source": [
    "# write a program to create intersection of set\n",
    "# In mathematics intersection of two set is denoted by A∩B, contains all common elements of A and B\n",
    "set1=set([\"green\",\"blue\"])\n",
    "set2=set([\"yellow\",\"blue\"])\n",
    "print(\"original set\")\n",
    "print(set1)\n",
    "print(set2)\n",
    "\n",
    "print(\"\\n Intersection of two set\")\n",
    "set3=set1 & set2\n",
    "print(set3)"
   ]
  },
  {
   "cell_type": "code",
   "execution_count": 47,
   "id": "c108faf9-c837-484c-8bca-5a85d9185571",
   "metadata": {},
   "outputs": [
    {
     "name": "stdout",
     "output_type": "stream",
     "text": [
      "{'Programming', 'Python', 'Language'}\n",
      "{'Session', 'Python'}\n",
      "Intersection Element of set1 and set2 is: {'Python'}\n"
     ]
    }
   ],
   "source": [
    "# Intersection of two set\n",
    "set1=set([\"Python\",\"Programming\",\"Language\"])\n",
    "set2=set([\"Python\",\"Session\"])\n",
    "print(set1)\n",
    "print(set2)\n",
    "set3=set1 & set2 # & for intersection function\n",
    "print(\"Intersection Element of set1 and set2 is:\",set3)"
   ]
  },
  {
   "cell_type": "code",
   "execution_count": 49,
   "id": "d7123dce-6f11-4529-9559-fb2280a7bd2d",
   "metadata": {},
   "outputs": [
    {
     "name": "stdout",
     "output_type": "stream",
     "text": [
      "{'Programming', 'Language', 'Session', 'Python'}\n"
     ]
    }
   ],
   "source": [
    "# Union of two set a={1,2,3,4,5} and b={3,4,6,7} \n",
    "# a union b={1,2,3,4,5,6,7}\n",
    "set3=set1.union(set2)\n",
    "print(set3)"
   ]
  },
  {
   "cell_type": "code",
   "execution_count": 52,
   "id": "22ffa121",
   "metadata": {},
   "outputs": [
    {
     "name": "stdout",
     "output_type": "stream",
     "text": [
      "{'Programming', 'Python', 'Language'}\n",
      "{'Session', 'Python'}\n",
      "{'Programming', 'Language', 'Session', 'Python'}\n",
      "{'Programming', 'Language'}\n"
     ]
    }
   ],
   "source": [
    "# Print all elements of Set1 and set2\n",
    "\n",
    "print(set1)\n",
    "print(set2)\n",
    "set3=set1.union(set2)\n",
    "print(set3)\n",
    "set3=set1.difference(set2)#only set1 removing common element\n",
    "set3=set2.difference(set1)#Only set2 removing common element\n",
    "print(set3)"
   ]
  },
  {
   "cell_type": "code",
   "execution_count": 8,
   "id": "d5219695",
   "metadata": {},
   "outputs": [
    {
     "name": "stdout",
     "output_type": "stream",
     "text": [
      "{'yellow'}\n"
     ]
    }
   ],
   "source": [
    "#print difference of set1 and set2\n",
    "set3=set1.difference(set2)\n",
    "print(set3)"
   ]
  },
  {
   "cell_type": "markdown",
   "id": "3661cf08",
   "metadata": {},
   "source": [
    "## Dictionary DataType"
   ]
  },
  {
   "cell_type": "code",
   "execution_count": 9,
   "id": "0e6c9b6e",
   "metadata": {},
   "outputs": [],
   "source": [
    "# Dictionary is an unordered collection of key-value pairs. ex (key)1:\"Suchita\"(value),2:\"Python\"\n",
    "# It is generally used when we have a huge amount of data.\n",
    "#Dictionaries are optimized for retrieving data. \n",
    "# We must know the key to retrieve the value.\n",
    "# In Python, dictionaries are defined within braces {} with each item being a pair in the form key:value"
   ]
  },
  {
   "cell_type": "code",
   "execution_count": 65,
   "id": "af9a172e",
   "metadata": {},
   "outputs": [
    {
     "name": "stdout",
     "output_type": "stream",
     "text": [
      "<class 'dict'>\n",
      "<class 'dict'>\n"
     ]
    }
   ],
   "source": [
    "# creating dictionary\n",
    "d={1:'value',2:'value1'}# element in left is always key and element in right is laways value\n",
    "d1={1:'Python','Abc':2}\n",
    "print(type(d1))\n",
    "print(type(d))"
   ]
  },
  {
   "cell_type": "code",
   "execution_count": 66,
   "id": "b22ee823",
   "metadata": {},
   "outputs": [
    {
     "name": "stdout",
     "output_type": "stream",
     "text": [
      "2\n"
     ]
    }
   ],
   "source": [
    "\n",
    "print(d1['Abc'])"
   ]
  },
  {
   "cell_type": "code",
   "execution_count": 16,
   "id": "77e330fc",
   "metadata": {},
   "outputs": [
    {
     "name": "stdout",
     "output_type": "stream",
     "text": [
      "d['key']= 2\n"
     ]
    }
   ],
   "source": [
    "print(\"d['key']=\",d['key'])"
   ]
  },
  {
   "cell_type": "code",
   "execution_count": 17,
   "id": "68f491d3",
   "metadata": {},
   "outputs": [
    {
     "name": "stdout",
     "output_type": "stream",
     "text": [
      "{'Brother': 30, 'Cousin': 40, 'Nephew': 10, 'Mother': 55, 'Father': 61}\n"
     ]
    }
   ],
   "source": [
    "family_member={'Brother':30,'Cousin':40,'Nephew':10,'Mother':55,'Father':61}\n",
    "print(family_member)"
   ]
  },
  {
   "cell_type": "code",
   "execution_count": 21,
   "id": "08c2186c",
   "metadata": {},
   "outputs": [
    {
     "name": "stdout",
     "output_type": "stream",
     "text": [
      "30\n"
     ]
    }
   ],
   "source": [
    "print(family_member['Brother'])"
   ]
  },
  {
   "cell_type": "code",
   "execution_count": 22,
   "id": "57f8cafa",
   "metadata": {},
   "outputs": [
    {
     "ename": "KeyError",
     "evalue": "40",
     "output_type": "error",
     "traceback": [
      "\u001b[1;31m---------------------------------------------------------------------------\u001b[0m",
      "\u001b[1;31mKeyError\u001b[0m                                  Traceback (most recent call last)",
      "Input \u001b[1;32mIn [22]\u001b[0m, in \u001b[0;36m<cell line: 1>\u001b[1;34m()\u001b[0m\n\u001b[1;32m----> 1\u001b[0m \u001b[38;5;28mprint\u001b[39m(\u001b[43mfamily_member\u001b[49m\u001b[43m[\u001b[49m\u001b[38;5;241;43m40\u001b[39;49m\u001b[43m]\u001b[49m)\n",
      "\u001b[1;31mKeyError\u001b[0m: 40"
     ]
    }
   ],
   "source": [
    "print(family_member[40])  # it will give error as only key can be passed as parameter. Key is in left"
   ]
  },
  {
   "cell_type": "code",
   "execution_count": 26,
   "id": "a00b67be",
   "metadata": {},
   "outputs": [
    {
     "name": "stdout",
     "output_type": "stream",
     "text": [
      "Accessing elements of dictionary \n",
      "Age of Mother 55\n"
     ]
    }
   ],
   "source": [
    "#Accessing element using get()\n",
    "print(\"Accessing elements of dictionary \")\n",
    "print(\"Age of Mother=\",family_member.get('Mother'))"
   ]
  },
  {
   "cell_type": "code",
   "execution_count": 32,
   "id": "1d7f25be",
   "metadata": {},
   "outputs": [
    {
     "name": "stdout",
     "output_type": "stream",
     "text": [
      "Original Elements in Dictionary= {'Brother': 30, 'Cousin': 40, 'Nephew': 10, 'Mother': 55, 'Father': 61}\n",
      "{'Brother': 30, 'Cousin': 40, 'Mother': 55, 'Father': 61}\n"
     ]
    }
   ],
   "source": [
    "#pop() removes ithem with specified key\n",
    "\n",
    "print(\"Original Elements in Dictionary=\",family_member)\n",
    "\n",
    "family_member.pop('Nephew')\n",
    "print(family_member)\n"
   ]
  },
  {
   "cell_type": "markdown",
   "id": "8b8f6719",
   "metadata": {},
   "source": [
    "## Boolean Datatype"
   ]
  },
  {
   "cell_type": "code",
   "execution_count": 34,
   "id": "6158efab",
   "metadata": {},
   "outputs": [],
   "source": [
    "# Data type with one of the two built-in values, True or False. \n",
    "# Boolean objects that are equal to True are truthy (true), and those equal to False are falsy (false). \n",
    "# It is denoted by the class bool.\n"
   ]
  },
  {
   "cell_type": "code",
   "execution_count": 70,
   "id": "63140a0d",
   "metadata": {},
   "outputs": [
    {
     "name": "stdout",
     "output_type": "stream",
     "text": [
      "<class 'bool'>\n",
      "<class 'bool'>\n"
     ]
    }
   ],
   "source": [
    "print(type(True))\n",
    "print(type(False))"
   ]
  },
  {
   "cell_type": "code",
   "execution_count": 68,
   "id": "ec423eff",
   "metadata": {},
   "outputs": [
    {
     "name": "stdout",
     "output_type": "stream",
     "text": [
      "range(0, 4)\n"
     ]
    }
   ],
   "source": [
    "# range()\n",
    "x=range(4)\n",
    "print(x)"
   ]
  },
  {
   "cell_type": "code",
   "execution_count": 38,
   "id": "b436d7d3",
   "metadata": {},
   "outputs": [],
   "source": [
    "# All datatypes in one code"
   ]
  },
  {
   "cell_type": "code",
   "execution_count": 39,
   "id": "3eedc6d5",
   "metadata": {},
   "outputs": [
    {
     "name": "stdout",
     "output_type": "stream",
     "text": [
      "<class 'str'>\n"
     ]
    }
   ],
   "source": [
    "# Datatype: str\n",
    "x=\"Hello World\"\n",
    "print(type(x))"
   ]
  },
  {
   "cell_type": "code",
   "execution_count": 40,
   "id": "0b131c15",
   "metadata": {},
   "outputs": [
    {
     "name": "stdout",
     "output_type": "stream",
     "text": [
      "<class 'int'>\n"
     ]
    }
   ],
   "source": [
    "# Datatyep:int\n",
    "x=10\n",
    "print(type(x))"
   ]
  },
  {
   "cell_type": "code",
   "execution_count": 41,
   "id": "d2ca8cf6",
   "metadata": {},
   "outputs": [
    {
     "name": "stdout",
     "output_type": "stream",
     "text": [
      "<class 'float'>\n"
     ]
    }
   ],
   "source": [
    "#Datatype:float\n",
    "x=10.9\n",
    "print(type(x))"
   ]
  },
  {
   "cell_type": "code",
   "execution_count": 42,
   "id": "41816ac3",
   "metadata": {},
   "outputs": [
    {
     "name": "stdout",
     "output_type": "stream",
     "text": [
      "<class 'complex'>\n"
     ]
    }
   ],
   "source": [
    "#Datatype:Complex\n",
    "x=4+8j\n",
    "print(type(x))"
   ]
  },
  {
   "cell_type": "code",
   "execution_count": 43,
   "id": "50b8db13",
   "metadata": {},
   "outputs": [
    {
     "name": "stdout",
     "output_type": "stream",
     "text": [
      "<class 'list'>\n"
     ]
    }
   ],
   "source": [
    "#Datatype:list\n",
    "x=[1,2,3,\"Python\"]\n",
    "print(type(x))"
   ]
  },
  {
   "cell_type": "code",
   "execution_count": 44,
   "id": "7a88e3bf",
   "metadata": {},
   "outputs": [
    {
     "name": "stdout",
     "output_type": "stream",
     "text": [
      "<class 'tuple'>\n"
     ]
    }
   ],
   "source": [
    "#Datatype:tuple\n",
    "x=(1,2,3,\"Programming\")\n",
    "print(type(x))"
   ]
  },
  {
   "cell_type": "code",
   "execution_count": 45,
   "id": "1aae94b3",
   "metadata": {},
   "outputs": [
    {
     "name": "stdout",
     "output_type": "stream",
     "text": [
      "<class 'range'>\n"
     ]
    }
   ],
   "source": [
    "#Datatype:range\n",
    "x=range(10)\n",
    "print(type(x))"
   ]
  },
  {
   "cell_type": "code",
   "execution_count": 46,
   "id": "f6bac510",
   "metadata": {},
   "outputs": [
    {
     "name": "stdout",
     "output_type": "stream",
     "text": [
      "<class 'dict'>\n"
     ]
    }
   ],
   "source": [
    "#Datatype:Dictionary\n",
    "x={1:\"Python\",2:\"Programming\"}\n",
    "print(type(x))"
   ]
  },
  {
   "cell_type": "code",
   "execution_count": 47,
   "id": "d85b24fb",
   "metadata": {},
   "outputs": [
    {
     "name": "stdout",
     "output_type": "stream",
     "text": [
      "<class 'set'>\n"
     ]
    }
   ],
   "source": [
    "#Datatype:Set\n",
    "x={\"Python\",\"Programming\",\"Language\"}\n",
    "print(type(x))"
   ]
  },
  {
   "cell_type": "code",
   "execution_count": 50,
   "id": "3123cf8f",
   "metadata": {},
   "outputs": [
    {
     "name": "stdout",
     "output_type": "stream",
     "text": [
      "<class 'frozenset'>\n"
     ]
    }
   ],
   "source": [
    "#Datatype:frozenset\n",
    "x={\"Python\",\"Programming\",\"Language\"}\n",
    "y=frozenset(x)\n",
    "print(type(y))"
   ]
  },
  {
   "cell_type": "code",
   "execution_count": 57,
   "id": "44e09305",
   "metadata": {},
   "outputs": [
    {
     "name": "stdout",
     "output_type": "stream",
     "text": [
      "Byte code of g is 103\n",
      "<class 'bytes'>\n"
     ]
    }
   ],
   "source": [
    "#Datatype:bytes\n",
    "x=b\"Good Morning\"\n",
    "print(\"Byte code of g is\",x[11])\n",
    "print(type(x))"
   ]
  },
  {
   "cell_type": "code",
   "execution_count": 61,
   "id": "e4114d87",
   "metadata": {},
   "outputs": [
    {
     "name": "stdout",
     "output_type": "stream",
     "text": [
      "bytearray(b'\\x00\\x00\\x00\\x00\\x00')\n",
      "<class 'bytearray'>\n"
     ]
    }
   ],
   "source": [
    "#Datatype:bytearray\n",
    "x=bytearray(5)\n",
    "print(x)\n",
    "print(type(x))"
   ]
  },
  {
   "cell_type": "code",
   "execution_count": 63,
   "id": "f43d5aa6",
   "metadata": {},
   "outputs": [
    {
     "name": "stdout",
     "output_type": "stream",
     "text": [
      "<memory at 0x000001CD50694400>\n"
     ]
    }
   ],
   "source": [
    "#Datatype:Memoryview\n",
    "x=memoryview(bytes(6))\n",
    "print(x)"
   ]
  },
  {
   "cell_type": "code",
   "execution_count": 65,
   "id": "9f928d16",
   "metadata": {},
   "outputs": [
    {
     "name": "stdout",
     "output_type": "stream",
     "text": [
      "<class 'NoneType'>\n"
     ]
    }
   ],
   "source": [
    "# Datatype:None\n",
    "y=None\n",
    "print(type(y))"
   ]
  },
  {
   "cell_type": "markdown",
   "id": "5c5c737c",
   "metadata": {},
   "source": [
    "## Type  Coversion"
   ]
  },
  {
   "cell_type": "code",
   "execution_count": null,
   "id": "37a2652a",
   "metadata": {},
   "outputs": [],
   "source": []
  },
  {
   "cell_type": "code",
   "execution_count": null,
   "id": "c5d65f84",
   "metadata": {},
   "outputs": [],
   "source": []
  },
  {
   "cell_type": "code",
   "execution_count": null,
   "id": "39a974e8",
   "metadata": {},
   "outputs": [],
   "source": []
  },
  {
   "cell_type": "code",
   "execution_count": 66,
   "id": "27290afb",
   "metadata": {},
   "outputs": [
    {
     "name": "stdout",
     "output_type": "stream",
     "text": [
      "(1+2j) is a comple number True\n"
     ]
    }
   ],
   "source": [
    "a=1+2j\n",
    "print(a,\"is a comple number\",isinstance(1+2j,complex))"
   ]
  },
  {
   "cell_type": "code",
   "execution_count": null,
   "id": "cc2c169e",
   "metadata": {},
   "outputs": [],
   "source": []
  }
 ],
 "metadata": {
  "kernelspec": {
   "display_name": "Python 3 (ipykernel)",
   "language": "python",
   "name": "python3"
  },
  "language_info": {
   "codemirror_mode": {
    "name": "ipython",
    "version": 3
   },
   "file_extension": ".py",
   "mimetype": "text/x-python",
   "name": "python",
   "nbconvert_exporter": "python",
   "pygments_lexer": "ipython3",
   "version": "3.9.12"
  }
 },
 "nbformat": 4,
 "nbformat_minor": 5
}
