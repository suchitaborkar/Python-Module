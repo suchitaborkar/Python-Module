{
 "cells": [
  {
   "cell_type": "markdown",
   "id": "c6dd9bb3",
   "metadata": {},
   "source": [
    "## if statement\n"
   ]
  },
  {
   "cell_type": "code",
   "execution_count": 7,
   "id": "fa95a94d",
   "metadata": {},
   "outputs": [
    {
     "name": "stdout",
     "output_type": "stream",
     "text": [
      "You are outside if statement\n"
     ]
    }
   ],
   "source": [
    "marks=35\n",
    "if marks>=40:\n",
    "    print(\"You pass the exam\")\n",
    "    print(\"I am in if statement\")\n",
    "print(\"You are outside if statement\")\n",
    "    \n"
   ]
  },
  {
   "cell_type": "code",
   "execution_count": 17,
   "id": "7d6f7757",
   "metadata": {
    "scrolled": true
   },
   "outputs": [
    {
     "name": "stdout",
     "output_type": "stream",
     "text": [
      "Enter any number8\n",
      "Number is  Positive\n",
      "Outside if statement\n"
     ]
    }
   ],
   "source": [
    "# Task to check whether number is positive(number>0)\n",
    "num=int(input(\"Enter any number\"))\n",
    "if num>0:\n",
    "    print(\"Number is  Positive\")\n",
    "else:\n",
    "    print(\"Number is Negative\")\n",
    "print(\"Outside if statement\")\n"
   ]
  },
  {
   "cell_type": "code",
   "execution_count": 21,
   "id": "1cee2b8a",
   "metadata": {},
   "outputs": [
    {
     "name": "stdout",
     "output_type": "stream",
     "text": [
      "Enter a number-9\n"
     ]
    }
   ],
   "source": [
    "num=int(input(\"Enter a number\"))\n",
    "if num>0:\n",
    "    print(\"Positive Number\")\n",
    "elif num==0:\n",
    "    print(\"Zero Number\")\n",
    "else:\n",
    "    print(\"Negative number\")"
   ]
  },
  {
   "cell_type": "code",
   "execution_count": 13,
   "id": "f511a177",
   "metadata": {},
   "outputs": [
    {
     "name": "stdout",
     "output_type": "stream",
     "text": [
      "Attendance absent mark\n",
      "Outside\n"
     ]
    }
   ],
   "source": [
    "att=\"Absent\"\n",
    "if att==\"Present\":\n",
    "    print(\"Attendance present mark\")\n",
    "else:\n",
    "    print(\"Attendance absent mark\")\n",
    "print(\"Outside\")"
   ]
  },
  {
   "cell_type": "code",
   "execution_count": 23,
   "id": "20e810c9",
   "metadata": {},
   "outputs": [
    {
     "name": "stdout",
     "output_type": "stream",
     "text": [
      "what is your number: 100\n",
      "not in range\n"
     ]
    }
   ],
   "source": [
    "# Write a python code to check the number is greater than 100\n",
    "number=int(input(\"what is your number: \"))\n",
    "if number > 100:\n",
    "    print(\"this number is greater than 100\")\n",
    "else:\n",
    "    print(\"not in range\")"
   ]
  },
  {
   "cell_type": "code",
   "execution_count": 24,
   "id": "4743fc85",
   "metadata": {},
   "outputs": [
    {
     "name": "stdout",
     "output_type": "stream",
     "text": [
      "Enter a number7\n",
      "Number less than 100\n"
     ]
    }
   ],
   "source": [
    "num=int(input(\"Enter a number\"))\n",
    "if num>=100:\n",
    "    print(\"Number greater than 100\")\n",
    "else:\n",
    "    print(\"Number less than 100\")"
   ]
  },
  {
   "cell_type": "code",
   "execution_count": 1,
   "id": "25d9e93f",
   "metadata": {},
   "outputs": [
    {
     "name": "stdout",
     "output_type": "stream",
     "text": [
      "Enter the number6\n",
      "It is an even number\n"
     ]
    }
   ],
   "source": [
    "# Write a python code to check number is even or odd num%2==0\n",
    "num=int(input(\"Enter the number\"))\n",
    "if num%2==0:\n",
    "    print(\"It is an even number\")\n",
    "else:\n",
    "    print(\"It is an odd number\")"
   ]
  },
  {
   "cell_type": "code",
   "execution_count": null,
   "id": "7d067c94",
   "metadata": {},
   "outputs": [],
   "source": [
    "# Write a code to get largest of three numbers\n",
    "a=int(input(\"Enter first number: \"))\n",
    "b=int(input(\"Enter Second Number: \"))\n",
    "c=int(input(\"Enter Third Number: \"))\n"
   ]
  },
  {
   "cell_type": "code",
   "execution_count": 3,
   "id": "ea6f03c6",
   "metadata": {
    "scrolled": true
   },
   "outputs": [
    {
     "name": "stdout",
     "output_type": "stream",
     "text": [
      "fisrt number: 8\n",
      "second number: 4\n",
      "third number: 9\n",
      "c is greater than a and b\n"
     ]
    }
   ],
   "source": [
    "a=int(input(\"first number: \"))\n",
    "b=int(input(\"second number: \"))\n",
    "c=int(input(\"third number: \"))\n",
    "if a>=b and a>=c:\n",
    "    print(\"A is greater\")\n",
    "elif b>=a and b>=c:\n",
    "    print(\"b is greater\")\n",
    "else:\n",
    "    print(\"c is greater than a and b\")"
   ]
  },
  {
   "cell_type": "markdown",
   "id": "8c99716c",
   "metadata": {},
   "source": [
    "## for loop"
   ]
  },
  {
   "cell_type": "code",
   "execution_count": 1,
   "id": "a038ca36",
   "metadata": {},
   "outputs": [
    {
     "name": "stdout",
     "output_type": "stream",
     "text": [
      "Hello World\n",
      "Hello World\n",
      "Hello World\n",
      "Hello World\n",
      "Hello World\n",
      "Hello World\n",
      "Hello World\n",
      "Hello World\n",
      "Hello World\n",
      "Hello World\n",
      "Hello World\n"
     ]
    }
   ],
   "source": [
    "# Task to print \"Hello World\" 10 times.\n",
    "print(\"Hello World\")\n",
    "print(\"Hello World\")\n",
    "print(\"Hello World\")\n",
    "print(\"Hello World\")\n",
    "print(\"Hello World\")\n",
    "print(\"Hello World\")\n",
    "print(\"Hello World\")\n",
    "print(\"Hello World\")\n",
    "print(\"Hello World\")\n",
    "print(\"Hello World\")\n",
    "print(\"Hello World\")\n"
   ]
  },
  {
   "cell_type": "code",
   "execution_count": 6,
   "id": "2c596017",
   "metadata": {},
   "outputs": [
    {
     "name": "stdout",
     "output_type": "stream",
     "text": [
      "Hello World\n",
      "Hello World\n",
      "Hello World\n",
      "Hello World\n",
      "Hello World\n",
      "Hello World\n",
      "Hello World\n",
      "Hello World\n",
      "Hello World\n",
      "Hello World\n",
      "Hello World\n",
      "Hello World\n",
      "Hello World\n",
      "Hello World\n",
      "Hello World\n",
      "Hello World\n",
      "Hello World\n",
      "Hello World\n",
      "Hello World\n",
      "Hello World\n",
      "End of for loop\n"
     ]
    }
   ],
   "source": [
    "# for Loop 10= 0 to 9\n",
    "for i in range(10):\n",
    "    print(\"Hello World\")\n",
    "print(\"End of for loop\")\n",
    "    \n",
    "    "
   ]
  },
  {
   "cell_type": "code",
   "execution_count": 11,
   "id": "b8d471c6",
   "metadata": {},
   "outputs": [
    {
     "name": "stdout",
     "output_type": "stream",
     "text": [
      "10\n",
      "11\n",
      "12\n",
      "13\n",
      "14\n",
      "15\n",
      "16\n",
      "17\n",
      "18\n",
      "19\n",
      "20\n",
      "21\n",
      "22\n",
      "End of For loop\n"
     ]
    }
   ],
   "source": [
    "# print the number from 10 to 22\n",
    "# range(start,stop)\n",
    "for i in range(10,23):\n",
    "    print(i)\n",
    "print(\"End of For loop\")"
   ]
  },
  {
   "cell_type": "code",
   "execution_count": 18,
   "id": "cd3897a3",
   "metadata": {},
   "outputs": [
    {
     "name": "stdout",
     "output_type": "stream",
     "text": [
      "0\n",
      "2\n",
      "4\n",
      "6\n",
      "8\n",
      "10\n",
      "12\n",
      "14\n",
      "16\n",
      "18\n",
      "20\n",
      "22\n",
      "24\n",
      "26\n",
      "28\n",
      "30\n",
      "32\n",
      "34\n",
      "36\n",
      "38\n",
      "40\n",
      "42\n",
      "44\n",
      "46\n",
      "48\n",
      "50\n",
      "52\n",
      "54\n",
      "56\n",
      "58\n",
      "60\n",
      "62\n",
      "64\n",
      "66\n",
      "68\n",
      "70\n",
      "72\n",
      "74\n",
      "76\n",
      "78\n",
      "80\n",
      "82\n",
      "84\n",
      "86\n",
      "88\n",
      "90\n",
      "92\n",
      "94\n",
      "96\n",
      "98\n",
      "100\n",
      "End of Loop\n"
     ]
    }
   ],
   "source": [
    "#print all odd numbers start from 1 to 100\n",
    "# range(start,stop,step) 0,2,4,6,8,10\n",
    "for i in range(0,101,2):\n",
    "    print(i)\n",
    "print(\"End of Loop\")"
   ]
  },
  {
   "cell_type": "code",
   "execution_count": 19,
   "id": "1331c58c",
   "metadata": {},
   "outputs": [
    {
     "name": "stdout",
     "output_type": "stream",
     "text": [
      "3\n",
      "5\n",
      "6\n",
      "7\n",
      "8\n",
      "9\n",
      "0\n",
      "2\n",
      "End of loop\n"
     ]
    }
   ],
   "source": [
    "# print elements of list\n",
    "list1=[3,5,6,7,8,9,0,2]\n",
    "for i in list1:\n",
    "    print(i)\n",
    "print(\"End of loop\")"
   ]
  },
  {
   "cell_type": "code",
   "execution_count": 21,
   "id": "62b3889c",
   "metadata": {},
   "outputs": [
    {
     "name": "stdout",
     "output_type": "stream",
     "text": [
      "5\n"
     ]
    }
   ],
   "source": [
    "list1=[2,3,5,6,7,8]\n",
    "print(list1[0])\n",
    "print(list1[1])\n",
    "print(list1[2])\n",
    "print(list1[3])"
   ]
  },
  {
   "cell_type": "code",
   "execution_count": 22,
   "id": "32cc75a9",
   "metadata": {},
   "outputs": [
    {
     "name": "stdout",
     "output_type": "stream",
     "text": [
      "2\n",
      "3\n",
      "4\n",
      "6\n",
      "7\n",
      "8\n",
      "9\n",
      "End of loop\n"
     ]
    }
   ],
   "source": [
    "tuple1=(2,3,4,6,7,8,9)\n",
    "for i in tuple1:\n",
    "    print(i)\n",
    "print(\"End of loop\")"
   ]
  },
  {
   "cell_type": "code",
   "execution_count": 23,
   "id": "718ceb79",
   "metadata": {},
   "outputs": [
    {
     "name": "stdout",
     "output_type": "stream",
     "text": [
      "Steve\n",
      "Paula\n",
      "John\n",
      "David\n",
      "End of loop\n"
     ]
    }
   ],
   "source": [
    "name=[\"Steve\",\"Paula\",\"John\",\"David\"]\n",
    "for i in name:\n",
    "    print(i)\n",
    "print(\"End of loop\")"
   ]
  },
  {
   "cell_type": "code",
   "execution_count": 24,
   "id": "6099abdc",
   "metadata": {},
   "outputs": [
    {
     "name": "stdout",
     "output_type": "stream",
     "text": [
      "4\n",
      "9\n",
      "16\n",
      "25\n",
      "36\n",
      "49\n",
      "64\n",
      "81\n",
      "End loop \n"
     ]
    }
   ],
   "source": [
    "# print square of all element from the list i**2\n",
    "list1=[2,3,4,5,6,7,8,9]\n",
    "for i in list1:\n",
    "    square=i**2\n",
    "    print(square)\n",
    "print(\"End loop \")"
   ]
  },
  {
   "cell_type": "code",
   "execution_count": 3,
   "id": "af8dfae6",
   "metadata": {},
   "outputs": [
    {
     "name": "stdout",
     "output_type": "stream",
     "text": [
      "Enter Username: david\n",
      "Username is incorrect\n",
      "Enter Username: dd\n",
      "Username is incorrect\n",
      "Enter Username: ff\n",
      "Username is incorrect\n",
      "End of Loop\n"
     ]
    }
   ],
   "source": [
    "i=1\n",
    "while i<=3:\n",
    "    username=input(\"Enter Username: \")\n",
    "    password=input(\"Enter password\")\n",
    "    if username==\"Suchita\" and password=\"Python\":\n",
    "        print(\"Login Successfully\")\n",
    "        break\n",
    "    else:\n",
    "        print(\"Username or password is incorrect\")\n",
    "    i=i+1\n",
    "print(\"End of Loop\")\n",
    "    "
   ]
  },
  {
   "cell_type": "code",
   "execution_count": 4,
   "id": "c294be51",
   "metadata": {},
   "outputs": [],
   "source": [
    "# find even elements and odd elements of list\n"
   ]
  },
  {
   "cell_type": "code",
   "execution_count": 7,
   "id": "d523a55f",
   "metadata": {},
   "outputs": [
    {
     "name": "stdout",
     "output_type": "stream",
     "text": [
      "D\n",
      "a\n",
      "t\n",
      "a\n",
      " \n",
      "S\n",
      "i\n",
      "e\n",
      "n\n",
      "e\n"
     ]
    }
   ],
   "source": [
    "for i in \"Data Science\":\n",
    "    if i==\"c\":\n",
    "        continue  # Skip\n",
    "    print(i)\n",
    "    "
   ]
  },
  {
   "cell_type": "code",
   "execution_count": 5,
   "id": "c64d3b1c",
   "metadata": {},
   "outputs": [
    {
     "name": "stdout",
     "output_type": "stream",
     "text": [
      "D\n",
      "a\n",
      "t\n",
      "a\n",
      " \n",
      "S\n"
     ]
    }
   ],
   "source": [
    "for i in \"Data Science\":\n",
    "    if i==\"c\":\n",
    "        break\n",
    "    print(i)\n",
    "    "
   ]
  },
  {
   "cell_type": "code",
   "execution_count": null,
   "id": "620f803a",
   "metadata": {},
   "outputs": [],
   "source": []
  }
 ],
 "metadata": {
  "kernelspec": {
   "display_name": "Python 3 (ipykernel)",
   "language": "python",
   "name": "python3"
  },
  "language_info": {
   "codemirror_mode": {
    "name": "ipython",
    "version": 3
   },
   "file_extension": ".py",
   "mimetype": "text/x-python",
   "name": "python",
   "nbconvert_exporter": "python",
   "pygments_lexer": "ipython3",
   "version": "3.9.12"
  }
 },
 "nbformat": 4,
 "nbformat_minor": 5
}
