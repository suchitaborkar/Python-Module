{
 "cells": [
  {
   "cell_type": "markdown",
   "id": "abb82b5b",
   "metadata": {},
   "source": [
    "## Operators"
   ]
  },
  {
   "cell_type": "code",
   "execution_count": 1,
   "id": "55c2ca69",
   "metadata": {},
   "outputs": [],
   "source": [
    "# Arithematic Operator"
   ]
  },
  {
   "cell_type": "code",
   "execution_count": 3,
   "id": "2c27d859",
   "metadata": {},
   "outputs": [
    {
     "name": "stdout",
     "output_type": "stream",
     "text": [
      "Substraction of a and b:  -1\n"
     ]
    }
   ],
   "source": [
    "# Addition Operator\n",
    "a=2\n",
    "b=3\n",
    "sub=a-b\n",
    "print(\"Substraction of a and b: \",sub)"
   ]
  },
  {
   "cell_type": "code",
   "execution_count": 4,
   "id": "e1a7c13a",
   "metadata": {},
   "outputs": [
    {
     "name": "stdout",
     "output_type": "stream",
     "text": [
      "6\n"
     ]
    }
   ],
   "source": [
    "# Multiplication Operator\n",
    "a=2\n",
    "b=3\n",
    "mul=a*b\n",
    "print(mul)"
   ]
  },
  {
   "cell_type": "code",
   "execution_count": 5,
   "id": "d64d23b5",
   "metadata": {},
   "outputs": [
    {
     "name": "stdout",
     "output_type": "stream",
     "text": [
      "3.0\n"
     ]
    }
   ],
   "source": [
    "# Division Operator /\n",
    "a=6\n",
    "b=2\n",
    "div=a/b\n",
    "print(div)"
   ]
  },
  {
   "cell_type": "code",
   "execution_count": 8,
   "id": "15dab851",
   "metadata": {},
   "outputs": [
    {
     "name": "stdout",
     "output_type": "stream",
     "text": [
      "3.5\n",
      "3\n"
     ]
    }
   ],
   "source": [
    "# Floor Division Operator //\n",
    "a=7\n",
    "b=2\n",
    "div=a/b # Divide\n",
    "d=a//b  # Floor Division\n",
    "# Reminder %\n",
    "print(div)\n",
    "print(d)\n"
   ]
  },
  {
   "cell_type": "code",
   "execution_count": 9,
   "id": "c6c45888",
   "metadata": {},
   "outputs": [
    {
     "name": "stdout",
     "output_type": "stream",
     "text": [
      "2\n"
     ]
    }
   ],
   "source": [
    "# Reminder % return remainder \n",
    "a=7\n",
    "b=5\n",
    "r=a%b\n",
    "print(r)"
   ]
  },
  {
   "cell_type": "code",
   "execution_count": 10,
   "id": "67b55284",
   "metadata": {},
   "outputs": [
    {
     "name": "stdout",
     "output_type": "stream",
     "text": [
      "8\n"
     ]
    }
   ],
   "source": [
    "# ** Exponent\n",
    "num1=2\n",
    "num2=3\n",
    "result=num1**num2  \n",
    "print(result)"
   ]
  },
  {
   "cell_type": "code",
   "execution_count": 13,
   "id": "da4f03d8",
   "metadata": {},
   "outputs": [
    {
     "name": "stdout",
     "output_type": "stream",
     "text": [
      "Enter first number6\n",
      "Enter Second number2\n",
      "8\n",
      "4\n",
      "3.0\n"
     ]
    }
   ],
   "source": [
    "# Take input as two numbers from user at run time using input()and\n",
    "#perform addition,substraction and division operation \n",
    "\n",
    "a=int(input())\n",
    "b=int(input(\"Enter Second number\"))\n",
    "\n",
    "print(a+b)\n",
    "print(a-b)\n",
    "print(a/b)"
   ]
  },
  {
   "cell_type": "code",
   "execution_count": 14,
   "id": "8f97182d",
   "metadata": {},
   "outputs": [
    {
     "name": "stdout",
     "output_type": "stream",
     "text": [
      "False\n",
      "True\n",
      "True\n",
      "False\n",
      "True\n"
     ]
    }
   ],
   "source": [
    "# Comparison Operator\n",
    "a=3\n",
    "b=5\n",
    "print(a==b) # Ans False\n",
    "print(a!=b) # Ans: True\n",
    "print(a<=b) #Ans:True\n",
    "print(a>=b) #Ans:False\n",
    " # Ans:True"
   ]
  },
  {
   "cell_type": "code",
   "execution_count": 21,
   "id": "87f2754b",
   "metadata": {},
   "outputs": [
    {
     "name": "stdout",
     "output_type": "stream",
     "text": [
      "True\n"
     ]
    }
   ],
   "source": [
    "# Logical\n",
    "# and operator: all conditions should be true\n",
    "marks=60\n",
    "att=75\n",
    "ass=60\n",
    "print((marks>=60) and (att>=75) and (ass>=60))"
   ]
  },
  {
   "cell_type": "code",
   "execution_count": 25,
   "id": "2ccf48db",
   "metadata": {},
   "outputs": [
    {
     "name": "stdout",
     "output_type": "stream",
     "text": [
      "False\n"
     ]
    }
   ],
   "source": [
    "# or operator Either one or both should be true\n",
    "marks=55\n",
    "att=80\n",
    "print((marks>=65) or (att==70))"
   ]
  },
  {
   "cell_type": "code",
   "execution_count": 26,
   "id": "8d83c37e",
   "metadata": {},
   "outputs": [
    {
     "name": "stdout",
     "output_type": "stream",
     "text": [
      "False\n"
     ]
    }
   ],
   "source": [
    "marks=50\n",
    "print(not marks)"
   ]
  },
  {
   "cell_type": "code",
   "execution_count": 31,
   "id": "6f96ba05",
   "metadata": {},
   "outputs": [
    {
     "data": {
      "text/plain": [
       "True"
      ]
     },
     "execution_count": 31,
     "metadata": {},
     "output_type": "execute_result"
    }
   ],
   "source": [
    "# Membership operator : in\n",
    "list1=[2,3,4,6,8]\n",
    "x=8\n",
    "x in list1  # whether x is present in list\n",
    "x not in list1 # whether x is not present in list"
   ]
  },
  {
   "cell_type": "code",
   "execution_count": 37,
   "id": "56ea01ee",
   "metadata": {},
   "outputs": [
    {
     "name": "stdout",
     "output_type": "stream",
     "text": [
      "1837676522064\n",
      "1837676713424\n"
     ]
    }
   ],
   "source": [
    "a=10\n",
    "b=100\n",
    "print(id(a))\n",
    "print(id(b))"
   ]
  },
  {
   "cell_type": "code",
   "execution_count": 38,
   "id": "956ae3ef",
   "metadata": {},
   "outputs": [
    {
     "name": "stdout",
     "output_type": "stream",
     "text": [
      "3\n",
      "Area of Sqaure:  9\n"
     ]
    }
   ],
   "source": [
    "# Area Square= Side * side\n",
    "side=int(input())\n",
    "area=side*side\n",
    "print(\"Area of Sqaure: \",area)"
   ]
  },
  {
   "cell_type": "code",
   "execution_count": null,
   "id": "0571ebf4",
   "metadata": {},
   "outputs": [],
   "source": []
  }
 ],
 "metadata": {
  "kernelspec": {
   "display_name": "Python 3 (ipykernel)",
   "language": "python",
   "name": "python3"
  },
  "language_info": {
   "codemirror_mode": {
    "name": "ipython",
    "version": 3
   },
   "file_extension": ".py",
   "mimetype": "text/x-python",
   "name": "python",
   "nbconvert_exporter": "python",
   "pygments_lexer": "ipython3",
   "version": "3.9.12"
  }
 },
 "nbformat": 4,
 "nbformat_minor": 5
}
