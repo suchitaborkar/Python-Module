{
 "cells": [
  {
   "cell_type": "code",
   "execution_count": 2,
   "id": "3e289e3e",
   "metadata": {},
   "outputs": [
    {
     "name": "stdout",
     "output_type": "stream",
     "text": [
      "I am Suchita Nilesh Borkar\n"
     ]
    }
   ],
   "source": [
    "file=open('demo.txt','r')\n",
    "for each in file :\n",
    "    print(each)"
   ]
  },
  {
   "cell_type": "code",
   "execution_count": 4,
   "id": "9bea975f",
   "metadata": {},
   "outputs": [
    {
     "name": "stdout",
     "output_type": "stream",
     "text": [
      "I am Suchita Nilesh Borkar\n"
     ]
    }
   ],
   "source": [
    "file=open('demo.txt','r')\n",
    "print(file.read())"
   ]
  },
  {
   "cell_type": "code",
   "execution_count": 5,
   "id": "d747e77e",
   "metadata": {},
   "outputs": [
    {
     "name": "stdout",
     "output_type": "stream",
     "text": [
      "I am \n"
     ]
    }
   ],
   "source": [
    "file=open('demo.txt','r')\n",
    "print(file.read(5))"
   ]
  },
  {
   "cell_type": "code",
   "execution_count": 8,
   "id": "9ad46674",
   "metadata": {},
   "outputs": [
    {
     "name": "stdout",
     "output_type": "stream",
     "text": [
      "['I', 'am', 'Suchita', 'Nilesh', 'Borkar']\n"
     ]
    }
   ],
   "source": [
    "#Illustrate split function\n",
    "with open(\"demo.txt\",\"r\") as file:\n",
    "    data=file.readlines()\n",
    "    for line in data:\n",
    "        word=line.split()\n",
    "        print(word)"
   ]
  },
  {
   "cell_type": "code",
   "execution_count": 9,
   "id": "b6a31c46",
   "metadata": {},
   "outputs": [],
   "source": [
    "#to create a file\n",
    "file=open('demo.txt','w')\n",
    "file.write(\"This is a demo file\")\n",
    "file.write(\"Some more line of code\")\n",
    "file.close()"
   ]
  },
  {
   "cell_type": "code",
   "execution_count": 11,
   "id": "83931130",
   "metadata": {},
   "outputs": [],
   "source": [
    "# illustrate append() mode\n",
    "file=open('demo.txt','a')\n",
    "file.write(\"This is demostration of append function\")\n",
    "file.close()"
   ]
  },
  {
   "cell_type": "code",
   "execution_count": null,
   "id": "24687e7b",
   "metadata": {},
   "outputs": [],
   "source": [
    "import os\n",
    "os.remove('demo.txt')"
   ]
  },
  {
   "cell_type": "code",
   "execution_count": 14,
   "id": "198e6753",
   "metadata": {},
   "outputs": [
    {
     "name": "stdout",
     "output_type": "stream",
     "text": [
      "        Unnamed: 0                       date    open    high     low   close  \\\n",
      "0                0  2018-01-01 09:15:00+05:30  407.00  407.00  403.70  404.25   \n",
      "1                1  2018-01-01 09:16:00+05:30  404.55  404.90  403.30  404.50   \n",
      "2                2  2018-01-01 09:17:00+05:30  404.55  406.30  404.55  405.50   \n",
      "3                3  2018-01-01 09:18:00+05:30  405.55  405.65  404.60  404.70   \n",
      "4                4  2018-01-01 09:19:00+05:30  405.10  405.10  404.20  404.55   \n",
      "...            ...                        ...     ...     ...     ...     ...   \n",
      "456370       15370  2023-01-03 15:25:00+05:30  820.00  820.50  819.60  820.00   \n",
      "456371       15371  2023-01-03 15:26:00+05:30  820.10  820.35  819.70  820.15   \n",
      "456372       15372  2023-01-03 15:27:00+05:30  820.15  820.15  819.50  819.90   \n",
      "456373       15373  2023-01-03 15:28:00+05:30  819.90  820.40  819.75  820.00   \n",
      "456374       15374  2023-01-03 15:29:00+05:30  820.00  820.00  818.00  818.00   \n",
      "\n",
      "        volume  \n",
      "0        15018  \n",
      "1        12209  \n",
      "2         7837  \n",
      "3         3614  \n",
      "4         4542  \n",
      "...        ...  \n",
      "456370   33880  \n",
      "456371    9931  \n",
      "456372    9150  \n",
      "456373   11068  \n",
      "456374   65713  \n",
      "\n",
      "[456375 rows x 7 columns]\n"
     ]
    }
   ],
   "source": [
    "import pandas as pd\n",
    "df=pd.read_csv(\"employees.csv\")\n",
    "print(df)"
   ]
  },
  {
   "cell_type": "code",
   "execution_count": null,
   "id": "f7c21e5c",
   "metadata": {},
   "outputs": [],
   "source": []
  }
 ],
 "metadata": {
  "kernelspec": {
   "display_name": "Python 3 (ipykernel)",
   "language": "python",
   "name": "python3"
  },
  "language_info": {
   "codemirror_mode": {
    "name": "ipython",
    "version": 3
   },
   "file_extension": ".py",
   "mimetype": "text/x-python",
   "name": "python",
   "nbconvert_exporter": "python",
   "pygments_lexer": "ipython3",
   "version": "3.11.5"
  }
 },
 "nbformat": 4,
 "nbformat_minor": 5
}
