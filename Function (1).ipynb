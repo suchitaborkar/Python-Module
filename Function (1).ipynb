{
 "cells": [
  {
   "cell_type": "markdown",
   "id": "9ab26f3e",
   "metadata": {
    "id": "9ab26f3e"
   },
   "source": [
    "## Function"
   ]
  },
  {
   "cell_type": "code",
   "execution_count": null,
   "id": "e81cc8ca",
   "metadata": {
    "id": "e81cc8ca"
   },
   "outputs": [],
   "source": [
    "#Function definition\n",
    "def add():\n",
    "    x=200\n",
    "    y=300\n",
    "    result=x+y\n",
    "    print(\"Sum = \",result)"
   ]
  },
  {
   "cell_type": "code",
   "execution_count": null,
   "id": "806aa9d9",
   "metadata": {
    "id": "806aa9d9",
    "outputId": "4fd100bc-31f8-46d9-b62b-7fee24342712"
   },
   "outputs": [
    {
     "name": "stdout",
     "output_type": "stream",
     "text": [
      "Sum =  500\n",
      "end of code\n"
     ]
    }
   ],
   "source": [
    "#Function call\n",
    "add()\n",
    "print(\"end of code\")"
   ]
  },
  {
   "cell_type": "code",
   "execution_count": null,
   "id": "f48928b7",
   "metadata": {
    "id": "f48928b7",
    "outputId": "d85122cd-1c02-4090-8827-983c40ea7da0"
   },
   "outputs": [
    {
     "name": "stdout",
     "output_type": "stream",
     "text": [
      "Sum =  500\n"
     ]
    }
   ],
   "source": [
    "#Function call\n",
    "add()"
   ]
  },
  {
   "cell_type": "markdown",
   "id": "aa0d1cf2",
   "metadata": {
    "id": "aa0d1cf2"
   },
   "source": [
    "### Parameter and argument - The terms parameter and argument can be used for the information that are passed into a function.\n",
    "\n",
    "From a function's perspective: A parameter is the variable listed inside the parentheses in the function definition. An argument is the value that are sent to the function when it is called."
   ]
  },
  {
   "cell_type": "code",
   "execution_count": null,
   "id": "9a78b454",
   "metadata": {
    "id": "9a78b454"
   },
   "outputs": [],
   "source": [
    "#Function defination with parameters\n",
    "def addition(x, y):\n",
    "    result=x+y\n",
    "    print(\"Sum = \",result)"
   ]
  },
  {
   "cell_type": "code",
   "execution_count": null,
   "id": "e94d1f64",
   "metadata": {
    "id": "e94d1f64",
    "outputId": "ba497b7d-f91a-4ee4-a547-07fd9620227b"
   },
   "outputs": [
    {
     "name": "stdout",
     "output_type": "stream",
     "text": [
      "Sum =  670\n"
     ]
    }
   ],
   "source": [
    "#Calling function with arguments\n",
    "addition(380,290)"
   ]
  },
  {
   "cell_type": "code",
   "execution_count": null,
   "id": "cfd43bb3",
   "metadata": {
    "id": "cfd43bb3",
    "outputId": "0d4c84a7-31f8-4930-d8da-972a31182f20"
   },
   "outputs": [
    {
     "name": "stdout",
     "output_type": "stream",
     "text": [
      "Sum =  56.2\n"
     ]
    }
   ],
   "source": [
    "p=22.2\n",
    "q=34\n",
    "addition(p,q)"
   ]
  },
  {
   "cell_type": "markdown",
   "id": "e7c22bf8",
   "metadata": {
    "id": "e7c22bf8"
   },
   "source": [
    "## Task 1 - Write a function to perform subtraction of two numbers"
   ]
  },
  {
   "cell_type": "code",
   "execution_count": null,
   "id": "f2e4c047",
   "metadata": {
    "id": "f2e4c047"
   },
   "outputs": [],
   "source": [
    "#task create multiplication and division function"
   ]
  },
  {
   "cell_type": "code",
   "execution_count": null,
   "id": "7f36f187",
   "metadata": {
    "id": "7f36f187"
   },
   "outputs": [],
   "source": [
    "#Function with sequence data as parameter\n",
    "def print_sqaured_list(number_list):\n",
    "    for i in number_list:\n",
    "        print(i**2)"
   ]
  },
  {
   "cell_type": "code",
   "execution_count": null,
   "id": "4b266221",
   "metadata": {
    "id": "4b266221",
    "outputId": "44d73fa5-8d82-4dab-fbf3-46034c3e3ee1"
   },
   "outputs": [
    {
     "name": "stdout",
     "output_type": "stream",
     "text": [
      "1\n",
      "9\n",
      "49\n",
      "121\n",
      "169\n"
     ]
    }
   ],
   "source": [
    "lst=[1,3,7,11,13]\n",
    "print_sqaured_list(lst)"
   ]
  },
  {
   "cell_type": "code",
   "execution_count": 7,
   "id": "da6b3538",
   "metadata": {
    "id": "da6b3538"
   },
   "outputs": [],
   "source": [
    "#Creating a user defined function\n",
    "def my_function():\n",
    "    print(\"Hello I am Function\")\n",
    "    print(\"Welcome\")"
   ]
  },
  {
   "cell_type": "code",
   "execution_count": 8,
   "id": "1bf9eefa",
   "metadata": {},
   "outputs": [
    {
     "name": "stdout",
     "output_type": "stream",
     "text": [
      "Hello I am Function\n",
      "Welcome\n"
     ]
    }
   ],
   "source": [
    "#function will run only when it is call\n",
    "#call function\n",
    "my_function()"
   ]
  },
  {
   "cell_type": "code",
   "execution_count": 5,
   "id": "3b5a6f9e",
   "metadata": {},
   "outputs": [],
   "source": [
    "#create a Function using argument/parameter\n",
    "def my_function(fname):\n",
    "    print(fname)\n",
    "    \n"
   ]
  },
  {
   "cell_type": "code",
   "execution_count": 6,
   "id": "a31faa74",
   "metadata": {},
   "outputs": [
    {
     "name": "stdout",
     "output_type": "stream",
     "text": [
      "Inputgoogle\n",
      "google\n"
     ]
    }
   ],
   "source": [
    "#Calling of Function\n",
    "fname=input(\"Input\")\n",
    "my_function(fname)\n"
   ]
  },
  {
   "cell_type": "code",
   "execution_count": 7,
   "id": "0047eb9f",
   "metadata": {},
   "outputs": [
    {
     "name": "stdout",
     "output_type": "stream",
     "text": [
      "30\n"
     ]
    }
   ],
   "source": [
    "# Add Two numbers\n",
    "a=10\n",
    "b=20\n",
    "addition=a+b\n",
    "print(addition)"
   ]
  },
  {
   "cell_type": "code",
   "execution_count": 15,
   "id": "84701124",
   "metadata": {},
   "outputs": [],
   "source": [
    "def my_addition(a,b):\n",
    "    return a+b"
   ]
  },
  {
   "cell_type": "code",
   "execution_count": 18,
   "id": "595323be",
   "metadata": {},
   "outputs": [
    {
     "data": {
      "text/plain": [
       "30"
      ]
     },
     "execution_count": 18,
     "metadata": {},
     "output_type": "execute_result"
    }
   ],
   "source": [
    "my_addition(10,20)"
   ]
  },
  {
   "cell_type": "code",
   "execution_count": 19,
   "id": "44d68396",
   "metadata": {},
   "outputs": [
    {
     "name": "stdout",
     "output_type": "stream",
     "text": [
      "2\n",
      "4\n"
     ]
    },
    {
     "data": {
      "text/plain": [
       "6"
      ]
     },
     "execution_count": 19,
     "metadata": {},
     "output_type": "execute_result"
    }
   ],
   "source": [
    "x = int(input())\n",
    "y = int(input())\n",
    "def addition(x,y):\n",
    "    return x + y\n",
    "addition(x,y)"
   ]
  },
  {
   "cell_type": "code",
   "execution_count": 20,
   "id": "0eb7d458",
   "metadata": {},
   "outputs": [
    {
     "data": {
      "text/plain": [
       "30"
      ]
     },
     "execution_count": 20,
     "metadata": {},
     "output_type": "execute_result"
    }
   ],
   "source": [
    "def addition():\n",
    "    a=10\n",
    "    b=20\n",
    "    c=a+b\n",
    "    return c\n",
    "addition()"
   ]
  },
  {
   "cell_type": "code",
   "execution_count": null,
   "id": "4e891f2f",
   "metadata": {},
   "outputs": [],
   "source": [
    "#Task create function for Simple interest =p*r*t/100\n",
    "p=int(input(\"Enter Integer Value\"))\n",
    "r=int(input(\"Enter Integer Value\"))\n",
    "t=int(input(\"Enter Integer Value\"))\n",
    "def my_simple(p,r,t):\n",
    "    SI=(p*r*t)/100\n",
    "    print(SI)\n",
    "   \n",
    "    \n",
    "my_simple(p,r,t)\n",
    "    "
   ]
  },
  {
   "cell_type": "code",
   "execution_count": 10,
   "id": "f2c4c083",
   "metadata": {},
   "outputs": [],
   "source": [
    "def operate(func,a,b):\n",
    "    return func(a,b)\n",
    "\n",
    "def add(x,y):\n",
    "    return x+y\n",
    "def sub(x,y):\n",
    "    return x-y\n",
    "def mul(x,y):\n",
    "    return x*y\n",
    "        "
   ]
  },
  {
   "cell_type": "code",
   "execution_count": 11,
   "id": "53416ff2",
   "metadata": {},
   "outputs": [
    {
     "data": {
      "text/plain": [
       "15"
      ]
     },
     "execution_count": 11,
     "metadata": {},
     "output_type": "execute_result"
    }
   ],
   "source": [
    "operate(add,10,5)\n"
   ]
  },
  {
   "cell_type": "code",
   "execution_count": 12,
   "id": "ab159eb4",
   "metadata": {},
   "outputs": [
    {
     "data": {
      "text/plain": [
       "3"
      ]
     },
     "execution_count": 12,
     "metadata": {},
     "output_type": "execute_result"
    }
   ],
   "source": [
    "operate(sub,4,1)"
   ]
  },
  {
   "cell_type": "code",
   "execution_count": 13,
   "id": "005270c7",
   "metadata": {},
   "outputs": [
    {
     "data": {
      "text/plain": [
       "8"
      ]
     },
     "execution_count": 13,
     "metadata": {},
     "output_type": "execute_result"
    }
   ],
   "source": [
    "operate(mul,2,4)"
   ]
  },
  {
   "cell_type": "code",
   "execution_count": 14,
   "id": "a2e183d7",
   "metadata": {},
   "outputs": [
    {
     "name": "stdout",
     "output_type": "stream",
     "text": [
      "8\n"
     ]
    }
   ],
   "source": [
    "# Nested Function\n",
    "\n",
    "def outer_function(x):\n",
    "    def inner_function(y):\n",
    "        return x+y\n",
    "    return inner_function\n",
    "\n",
    "add=outer_function(5)\n",
    "print(add(3))\n",
    "\n"
   ]
  },
  {
   "cell_type": "code",
   "execution_count": null,
   "id": "49a562c7",
   "metadata": {},
   "outputs": [],
   "source": []
  }
 ],
 "metadata": {
  "colab": {
   "provenance": []
  },
  "kernelspec": {
   "display_name": "Python 3 (ipykernel)",
   "language": "python",
   "name": "python3"
  },
  "language_info": {
   "codemirror_mode": {
    "name": "ipython",
    "version": 3
   },
   "file_extension": ".py",
   "mimetype": "text/x-python",
   "name": "python",
   "nbconvert_exporter": "python",
   "pygments_lexer": "ipython3",
   "version": "3.9.12"
  }
 },
 "nbformat": 4,
 "nbformat_minor": 5
}
