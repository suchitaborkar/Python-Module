{
 "cells": [
  {
   "cell_type": "code",
   "execution_count": 1,
   "id": "0f39443e",
   "metadata": {},
   "outputs": [
    {
     "name": "stdout",
     "output_type": "stream",
     "text": [
      "[1, 8, 64, 125, 216, 343]\n"
     ]
    }
   ],
   "source": [
    "def filterfun(x):\n",
    "    return(x*x*x)\n",
    "my_list=[1,2,4,5,6,7]\n",
    "result=list(map(filterfun,my_list))\n",
    "print(result)"
   ]
  },
  {
   "cell_type": "code",
   "execution_count": 2,
   "id": "0dee2cc5",
   "metadata": {},
   "outputs": [
    {
     "name": "stdout",
     "output_type": "stream",
     "text": [
      "[4, 5, 6, 7]\n"
     ]
    }
   ],
   "source": [
    "def filterfun(x):\n",
    "    return x>2\n",
    "my_list=[1,2,4,5,6,7]\n",
    "result=list(filter(filterfun,my_list))\n",
    "print(result)"
   ]
  },
  {
   "cell_type": "markdown",
   "id": "75e6e0dd",
   "metadata": {},
   "source": [
    "## Function"
   ]
  },
  {
   "cell_type": "code",
   "execution_count": 15,
   "id": "2a8844a7",
   "metadata": {},
   "outputs": [
    {
     "data": {
      "text/plain": [
       "5"
      ]
     },
     "execution_count": 15,
     "metadata": {},
     "output_type": "execute_result"
    }
   ],
   "source": [
    "# Task is create an addition function\n",
    "def add():\n",
    "    x=2\n",
    "    y=3\n",
    "    return x+y\n",
    "add() # call the function\n",
    "add()"
   ]
  },
  {
   "cell_type": "code",
   "execution_count": 23,
   "id": "84f8678e",
   "metadata": {},
   "outputs": [
    {
     "name": "stdout",
     "output_type": "stream",
     "text": [
      "6\n"
     ]
    }
   ],
   "source": [
    "def mul():\n",
    "    x=2\n",
    "    y=3\n",
    "    print(x*y) \n",
    "mul()"
   ]
  },
  {
   "cell_type": "code",
   "execution_count": 22,
   "id": "6ac8a262",
   "metadata": {},
   "outputs": [
    {
     "data": {
      "text/plain": [
       "7"
      ]
     },
     "execution_count": 22,
     "metadata": {},
     "output_type": "execute_result"
    }
   ],
   "source": [
    "# pass a paramter in function\n",
    "def add(x,y):\n",
    "    return x+y\n",
    "add(3,4)\n",
    "#print(add(2,3))\n",
    "#print(add(4,5))\n",
    "#print(add(6,7))"
   ]
  },
  {
   "cell_type": "code",
   "execution_count": 25,
   "id": "c922dcf2",
   "metadata": {},
   "outputs": [
    {
     "name": "stdout",
     "output_type": "stream",
     "text": [
      "Enter First Number2\n",
      "Enter Second number5\n"
     ]
    },
    {
     "data": {
      "text/plain": [
       "10"
      ]
     },
     "execution_count": 25,
     "metadata": {},
     "output_type": "execute_result"
    }
   ],
   "source": [
    "# Multiplication with Parameter\n",
    "def mul(x,y):\n",
    "    return x*y\n",
    "x=int(input(\"Enter First Number\"))\n",
    "y=int(input(\"Enter Second number\"))\n",
    "mul(x,y)"
   ]
  },
  {
   "cell_type": "code",
   "execution_count": 31,
   "id": "1dc4a13b",
   "metadata": {
    "scrolled": true
   },
   "outputs": [
    {
     "name": "stdout",
     "output_type": "stream",
     "text": [
      "Suchita\n",
      "35\n",
      "('Suchita', 35)\n",
      "John\n",
      "34\n",
      "('John', 34)\n"
     ]
    }
   ],
   "source": [
    "# Create a function to print Name of Student and Age of Student\n",
    "def stud_detail(name,age):\n",
    "    print(name)\n",
    "    print(age)\n",
    "   # return name,age\n",
    "print(stud_detail(\"Suchita\",35))\n",
    "print(stud_detail(\"John\",34))"
   ]
  },
  {
   "cell_type": "code",
   "execution_count": 36,
   "id": "45d1eb7b",
   "metadata": {},
   "outputs": [
    {
     "name": "stdout",
     "output_type": "stream",
     "text": [
      "Enter Student Name: Suchita\n",
      "Enter Student Age: 35\n",
      "Student name and Age are: Suchita 35\n"
     ]
    }
   ],
   "source": [
    "def stud_detail(name,age):  # Definition or creation of Function\n",
    "    print(name,age) \n",
    "name=input(\"Enter Student Name: \") \n",
    "age=int(input(\"Enter Student Age: \"))\n",
    "stud_detail(name,age) # Calling Function\n"
   ]
  },
  {
   "cell_type": "code",
   "execution_count": 37,
   "id": "1b6b7e82",
   "metadata": {},
   "outputs": [
    {
     "name": "stdout",
     "output_type": "stream",
     "text": [
      "John 23 34\n"
     ]
    }
   ],
   "source": [
    "# Create a Function to print Name,RollNo, Age\n",
    "def stud_detail(name,rollno,age):\n",
    "    print(name,rollno,age)\n",
    "stud_detail(\"John\",23,34)"
   ]
  },
  {
   "cell_type": "code",
   "execution_count": 38,
   "id": "465149f2",
   "metadata": {},
   "outputs": [
    {
     "name": "stdout",
     "output_type": "stream",
     "text": [
      "ENter nameJohn\n",
      "enter roll no34\n",
      "Enter age20\n"
     ]
    },
    {
     "data": {
      "text/plain": [
       "('John', 34, 20)"
      ]
     },
     "execution_count": 38,
     "metadata": {},
     "output_type": "execute_result"
    }
   ],
   "source": [
    "def stu_detail(name,roll_no,age):\n",
    "    return (name, roll_no, age)\n",
    "name=input(\"Enter name\")\n",
    "roll_no=int(input(\"enter roll no\"))\n",
    "age= int(input(\"Enter age\"))\n",
    "stu_detail(name,roll_no,age)"
   ]
  },
  {
   "cell_type": "code",
   "execution_count": 43,
   "id": "9d2e110f",
   "metadata": {},
   "outputs": [
    {
     "name": "stdout",
     "output_type": "stream",
     "text": [
      "Cannot be divide by zero\n"
     ]
    }
   ],
   "source": [
    "# Task to perform division denomenator is not equal 0\n",
    "def div(x,y):\n",
    "    if y!=0:\n",
    "        result=x/y\n",
    "        print(result)\n",
    "    else:\n",
    "        print(\"Cannot be divide by zero\")\n",
    "div(6,0)"
   ]
  },
  {
   "cell_type": "markdown",
   "id": "10eb69c5",
   "metadata": {},
   "source": [
    "## lambda function"
   ]
  },
  {
   "cell_type": "code",
   "execution_count": 46,
   "id": "b45c7181",
   "metadata": {},
   "outputs": [
    {
     "name": "stdout",
     "output_type": "stream",
     "text": [
      "5\n"
     ]
    }
   ],
   "source": [
    "add=lambda x,y:x+y\n",
    "print(add(2,3))"
   ]
  },
  {
   "cell_type": "code",
   "execution_count": 47,
   "id": "8b32b23e",
   "metadata": {},
   "outputs": [
    {
     "name": "stdout",
     "output_type": "stream",
     "text": [
      "12\n"
     ]
    }
   ],
   "source": [
    "mul=lambda x,y:x*y\n",
    "print(mul(3,4))"
   ]
  },
  {
   "cell_type": "code",
   "execution_count": 50,
   "id": "e99fbeab",
   "metadata": {},
   "outputs": [
    {
     "name": "stdout",
     "output_type": "stream",
     "text": [
      "9\n"
     ]
    }
   ],
   "source": [
    "square=lambda x:x*x\n",
    "print(square(3))"
   ]
  },
  {
   "cell_type": "code",
   "execution_count": 53,
   "id": "75391394",
   "metadata": {},
   "outputs": [
    {
     "name": "stdout",
     "output_type": "stream",
     "text": [
      "[23, 45, 22, 26]\n"
     ]
    }
   ],
   "source": [
    "# syntax list(filter(functionname,listname))\n",
    "list1=[23,45,67,89,22,26]\n",
    "newlist=list(filter(lambda x:x<=45,list1))\n",
    "print(newlist)"
   ]
  },
  {
   "cell_type": "code",
   "execution_count": 55,
   "id": "8812a0b4",
   "metadata": {},
   "outputs": [
    {
     "name": "stdout",
     "output_type": "stream",
     "text": [
      "[4, 9, 16, 25, 36, 49]\n"
     ]
    }
   ],
   "source": [
    "list1=[2,3,4,5,6,7]\n",
    "newlist=list(map(lambda x:x*x,list1))\n",
    "print(newlist)"
   ]
  },
  {
   "cell_type": "code",
   "execution_count": null,
   "id": "82893e5d",
   "metadata": {},
   "outputs": [],
   "source": []
  }
 ],
 "metadata": {
  "kernelspec": {
   "display_name": "Python 3 (ipykernel)",
   "language": "python",
   "name": "python3"
  },
  "language_info": {
   "codemirror_mode": {
    "name": "ipython",
    "version": 3
   },
   "file_extension": ".py",
   "mimetype": "text/x-python",
   "name": "python",
   "nbconvert_exporter": "python",
   "pygments_lexer": "ipython3",
   "version": "3.9.12"
  }
 },
 "nbformat": 4,
 "nbformat_minor": 5
}
